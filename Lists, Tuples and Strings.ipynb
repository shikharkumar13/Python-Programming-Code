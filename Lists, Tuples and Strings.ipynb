{
 "cells": [
  {
   "cell_type": "markdown",
   "id": "4c13fd58",
   "metadata": {},
   "source": [
    "## Lists\n",
    "\n",
    "- It is a collection of heterogenous data.\n",
    "- Mutable data."
   ]
  },
  {
   "cell_type": "code",
   "execution_count": 1,
   "id": "4fb6e095",
   "metadata": {},
   "outputs": [],
   "source": [
    "list1 = [10,20,30,40,50,60,70,60.7, 90.1, 'Python', [11,12,13,14]]"
   ]
  },
  {
   "cell_type": "code",
   "execution_count": 2,
   "id": "b756cdd0",
   "metadata": {},
   "outputs": [
    {
     "data": {
      "text/plain": [
       "[10, 20, 30, 40, 50, 60, 70, 60.7, 90.1, 'Python', [11, 12, 13, 14]]"
      ]
     },
     "execution_count": 2,
     "metadata": {},
     "output_type": "execute_result"
    }
   ],
   "source": [
    "list1"
   ]
  },
  {
   "cell_type": "code",
   "execution_count": 3,
   "id": "e094cb52",
   "metadata": {},
   "outputs": [],
   "source": [
    "list2 = [10,20,30,40,50,60,70]"
   ]
  },
  {
   "cell_type": "code",
   "execution_count": 4,
   "id": "ce8a55d7",
   "metadata": {},
   "outputs": [],
   "source": [
    "list3 = ['Python', 'Maths', 'Stats', 'Machine', 'Learning']"
   ]
  },
  {
   "cell_type": "markdown",
   "id": "0b2fd3d8",
   "metadata": {},
   "source": [
    "### Selection of the data using `indexing and slicing`"
   ]
  },
  {
   "cell_type": "code",
   "execution_count": 5,
   "id": "7e2e8784",
   "metadata": {},
   "outputs": [
    {
     "data": {
      "text/plain": [
       "[10, 20, 30, 40, 50, 60, 70, 60.7, 90.1, 'Python', [11, 12, 13, 14]]"
      ]
     },
     "execution_count": 5,
     "metadata": {},
     "output_type": "execute_result"
    }
   ],
   "source": [
    "list1"
   ]
  },
  {
   "cell_type": "code",
   "execution_count": 6,
   "id": "f542d309",
   "metadata": {},
   "outputs": [
    {
     "data": {
      "text/plain": [
       "[10, 20, 30, 40, 50, 60, 70]"
      ]
     },
     "execution_count": 6,
     "metadata": {},
     "output_type": "execute_result"
    }
   ],
   "source": [
    "list2"
   ]
  },
  {
   "cell_type": "code",
   "execution_count": 7,
   "id": "45b7f5cc",
   "metadata": {},
   "outputs": [
    {
     "data": {
      "text/plain": [
       "40"
      ]
     },
     "execution_count": 7,
     "metadata": {},
     "output_type": "execute_result"
    }
   ],
   "source": [
    "list2[3]"
   ]
  },
  {
   "cell_type": "code",
   "execution_count": 8,
   "id": "8e21460b",
   "metadata": {},
   "outputs": [
    {
     "data": {
      "text/plain": [
       "10"
      ]
     },
     "execution_count": 8,
     "metadata": {},
     "output_type": "execute_result"
    }
   ],
   "source": [
    "list2[0]"
   ]
  },
  {
   "cell_type": "code",
   "execution_count": 9,
   "id": "3804f685",
   "metadata": {},
   "outputs": [
    {
     "data": {
      "text/plain": [
       "[30, 40, 50]"
      ]
     },
     "execution_count": 9,
     "metadata": {},
     "output_type": "execute_result"
    }
   ],
   "source": [
    "list2[2:5]"
   ]
  },
  {
   "cell_type": "code",
   "execution_count": 10,
   "id": "60545a71",
   "metadata": {},
   "outputs": [
    {
     "data": {
      "text/plain": [
       "[50, 60, 70]"
      ]
     },
     "execution_count": 10,
     "metadata": {},
     "output_type": "execute_result"
    }
   ],
   "source": [
    "list2[4:7]"
   ]
  },
  {
   "cell_type": "code",
   "execution_count": 11,
   "id": "742b813d",
   "metadata": {},
   "outputs": [
    {
     "data": {
      "text/plain": [
       "[10, 30, 50, 70]"
      ]
     },
     "execution_count": 11,
     "metadata": {},
     "output_type": "execute_result"
    }
   ],
   "source": [
    "list2[0:7:2]"
   ]
  },
  {
   "cell_type": "code",
   "execution_count": 12,
   "id": "20401cbf",
   "metadata": {},
   "outputs": [
    {
     "data": {
      "text/plain": [
       "[10, 20, 60, 70]"
      ]
     },
     "execution_count": 12,
     "metadata": {},
     "output_type": "execute_result"
    }
   ],
   "source": [
    "list2[0:2] + list2[5:7]"
   ]
  },
  {
   "cell_type": "code",
   "execution_count": 13,
   "id": "c53f87da",
   "metadata": {},
   "outputs": [
    {
     "data": {
      "text/plain": [
       "[10, 20, 30, 40, 50, 60, 70]"
      ]
     },
     "execution_count": 13,
     "metadata": {},
     "output_type": "execute_result"
    }
   ],
   "source": [
    "list2"
   ]
  },
  {
   "cell_type": "code",
   "execution_count": 15,
   "id": "804a7994",
   "metadata": {},
   "outputs": [
    {
     "data": {
      "text/plain": [
       "[20, 50, 60]"
      ]
     },
     "execution_count": 15,
     "metadata": {},
     "output_type": "execute_result"
    }
   ],
   "source": [
    "list2[1:2] + list2[4:6]"
   ]
  },
  {
   "cell_type": "markdown",
   "id": "2c391ea3",
   "metadata": {},
   "source": [
    "### Mutable Properties of a list"
   ]
  },
  {
   "cell_type": "markdown",
   "id": "04856607",
   "metadata": {},
   "source": [
    "#### Replacing the values in a list"
   ]
  },
  {
   "cell_type": "code",
   "execution_count": 17,
   "id": "06a87efa",
   "metadata": {},
   "outputs": [
    {
     "data": {
      "text/plain": [
       "[10, 20, 30, 40, 50, 60, 70]"
      ]
     },
     "execution_count": 17,
     "metadata": {},
     "output_type": "execute_result"
    }
   ],
   "source": [
    "list2"
   ]
  },
  {
   "cell_type": "code",
   "execution_count": 19,
   "id": "2d718066",
   "metadata": {},
   "outputs": [],
   "source": [
    "list2[3] = 67"
   ]
  },
  {
   "cell_type": "code",
   "execution_count": 20,
   "id": "2f165170",
   "metadata": {},
   "outputs": [
    {
     "data": {
      "text/plain": [
       "[10, 20, 30, 67, 50, 60, 70]"
      ]
     },
     "execution_count": 20,
     "metadata": {},
     "output_type": "execute_result"
    }
   ],
   "source": [
    "list2"
   ]
  },
  {
   "cell_type": "code",
   "execution_count": 23,
   "id": "e4235fa6",
   "metadata": {},
   "outputs": [],
   "source": [
    "list2[0:3] = [11, 35, 44]"
   ]
  },
  {
   "cell_type": "code",
   "execution_count": 24,
   "id": "f6d64e03",
   "metadata": {},
   "outputs": [
    {
     "data": {
      "text/plain": [
       "[11, 35, 44, 67, 50, 60, 70]"
      ]
     },
     "execution_count": 24,
     "metadata": {},
     "output_type": "execute_result"
    }
   ],
   "source": [
    "list2"
   ]
  },
  {
   "cell_type": "code",
   "execution_count": 25,
   "id": "d8075a41",
   "metadata": {},
   "outputs": [],
   "source": [
    "list2[0:3] = [100]"
   ]
  },
  {
   "cell_type": "code",
   "execution_count": 26,
   "id": "8940d87a",
   "metadata": {},
   "outputs": [
    {
     "data": {
      "text/plain": [
       "[100, 67, 50, 60, 70]"
      ]
     },
     "execution_count": 26,
     "metadata": {},
     "output_type": "execute_result"
    }
   ],
   "source": [
    "list2"
   ]
  },
  {
   "cell_type": "code",
   "execution_count": 27,
   "id": "730d5455",
   "metadata": {},
   "outputs": [
    {
     "data": {
      "text/plain": [
       "[10, 20, 30, 40, 50, 60, 70, 60.7, 90.1, 'Python', [11, 12, 13, 14]]"
      ]
     },
     "execution_count": 27,
     "metadata": {},
     "output_type": "execute_result"
    }
   ],
   "source": [
    "list1"
   ]
  },
  {
   "cell_type": "code",
   "execution_count": 28,
   "id": "4a6b9553",
   "metadata": {},
   "outputs": [
    {
     "data": {
      "text/plain": [
       "[11, 12, 13, 14]"
      ]
     },
     "execution_count": 28,
     "metadata": {},
     "output_type": "execute_result"
    }
   ],
   "source": [
    "list1[10]"
   ]
  },
  {
   "cell_type": "code",
   "execution_count": 29,
   "id": "a33dcf2d",
   "metadata": {},
   "outputs": [
    {
     "data": {
      "text/plain": [
       "8"
      ]
     },
     "execution_count": 29,
     "metadata": {},
     "output_type": "execute_result"
    }
   ],
   "source": [
    "list1.index(90.1)"
   ]
  },
  {
   "cell_type": "code",
   "execution_count": 30,
   "id": "45ee24fd",
   "metadata": {},
   "outputs": [
    {
     "data": {
      "text/plain": [
       "10"
      ]
     },
     "execution_count": 30,
     "metadata": {},
     "output_type": "execute_result"
    }
   ],
   "source": [
    "list1.index([11, 12, 13, 14])"
   ]
  },
  {
   "cell_type": "code",
   "execution_count": 33,
   "id": "73353f0e",
   "metadata": {},
   "outputs": [],
   "source": [
    "list1[10][2] = 42"
   ]
  },
  {
   "cell_type": "code",
   "execution_count": 34,
   "id": "542ea868",
   "metadata": {},
   "outputs": [
    {
     "data": {
      "text/plain": [
       "[10, 20, 30, 40, 50, 60, 70, 60.7, 90.1, 'Python', [11, 12, 42, 14]]"
      ]
     },
     "execution_count": 34,
     "metadata": {},
     "output_type": "execute_result"
    }
   ],
   "source": [
    "list1"
   ]
  },
  {
   "cell_type": "markdown",
   "id": "68e2b057",
   "metadata": {},
   "source": [
    "#### Inserting the values in the list"
   ]
  },
  {
   "cell_type": "code",
   "execution_count": 35,
   "id": "6c9f5d25",
   "metadata": {},
   "outputs": [
    {
     "data": {
      "text/plain": [
       "[100, 67, 50, 60, 70]"
      ]
     },
     "execution_count": 35,
     "metadata": {},
     "output_type": "execute_result"
    }
   ],
   "source": [
    "list2"
   ]
  },
  {
   "cell_type": "code",
   "execution_count": 36,
   "id": "71c0d5f2",
   "metadata": {},
   "outputs": [],
   "source": [
    "#insert a single value in a list at the end\n",
    "list2.append(100)"
   ]
  },
  {
   "cell_type": "code",
   "execution_count": 37,
   "id": "4df8d74a",
   "metadata": {},
   "outputs": [
    {
     "data": {
      "text/plain": [
       "[100, 67, 50, 60, 70, 100]"
      ]
     },
     "execution_count": 37,
     "metadata": {},
     "output_type": "execute_result"
    }
   ],
   "source": [
    "list2"
   ]
  },
  {
   "cell_type": "code",
   "execution_count": 38,
   "id": "643207ca",
   "metadata": {},
   "outputs": [],
   "source": [
    "list2.append(5)"
   ]
  },
  {
   "cell_type": "code",
   "execution_count": 39,
   "id": "b99e3652",
   "metadata": {},
   "outputs": [
    {
     "data": {
      "text/plain": [
       "[100, 67, 50, 60, 70, 100, 5]"
      ]
     },
     "execution_count": 39,
     "metadata": {},
     "output_type": "execute_result"
    }
   ],
   "source": [
    "list2"
   ]
  },
  {
   "cell_type": "code",
   "execution_count": 40,
   "id": "0cf9934b",
   "metadata": {},
   "outputs": [],
   "source": [
    "list2.append('Maths')"
   ]
  },
  {
   "cell_type": "code",
   "execution_count": 41,
   "id": "05233b94",
   "metadata": {},
   "outputs": [
    {
     "data": {
      "text/plain": [
       "[100, 67, 50, 60, 70, 100, 5, 'Maths']"
      ]
     },
     "execution_count": 41,
     "metadata": {},
     "output_type": "execute_result"
    }
   ],
   "source": [
    "list2"
   ]
  },
  {
   "cell_type": "code",
   "execution_count": 42,
   "id": "a33335db",
   "metadata": {},
   "outputs": [],
   "source": [
    "#insert multiple values into the list\n",
    "list2.extend([66, 87, 92])"
   ]
  },
  {
   "cell_type": "code",
   "execution_count": 43,
   "id": "a08443ad",
   "metadata": {},
   "outputs": [
    {
     "data": {
      "text/plain": [
       "[100, 67, 50, 60, 70, 100, 5, 'Maths', 66, 87, 92]"
      ]
     },
     "execution_count": 43,
     "metadata": {},
     "output_type": "execute_result"
    }
   ],
   "source": [
    "list2"
   ]
  },
  {
   "cell_type": "code",
   "execution_count": 45,
   "id": "3db4ee08",
   "metadata": {},
   "outputs": [],
   "source": [
    "#append insert the given list as it is into the original list\n",
    "list2.append([90, 33])"
   ]
  },
  {
   "cell_type": "code",
   "execution_count": 46,
   "id": "8faa46a6",
   "metadata": {},
   "outputs": [
    {
     "data": {
      "text/plain": [
       "[100, 67, 50, 60, 70, 100, 5, 'Maths', 66, 87, 92, [90, 33]]"
      ]
     },
     "execution_count": 46,
     "metadata": {},
     "output_type": "execute_result"
    }
   ],
   "source": [
    "list2"
   ]
  },
  {
   "cell_type": "code",
   "execution_count": 47,
   "id": "ecd88a66",
   "metadata": {},
   "outputs": [],
   "source": [
    "#insert an item at a particular item\n",
    "list2.insert(2, 200)"
   ]
  },
  {
   "cell_type": "markdown",
   "id": "f0038213",
   "metadata": {},
   "source": [
    "#### Removing values from the list"
   ]
  },
  {
   "cell_type": "code",
   "execution_count": 49,
   "id": "b1961413",
   "metadata": {},
   "outputs": [
    {
     "data": {
      "text/plain": [
       "[100, 67, 200, 50, 60, 70, 100, 5, 'Maths', 66, 87, 92, [90, 33]]"
      ]
     },
     "execution_count": 49,
     "metadata": {},
     "output_type": "execute_result"
    }
   ],
   "source": [
    "list2"
   ]
  },
  {
   "cell_type": "code",
   "execution_count": 50,
   "id": "92873125",
   "metadata": {},
   "outputs": [
    {
     "data": {
      "text/plain": [
       "100"
      ]
     },
     "execution_count": 50,
     "metadata": {},
     "output_type": "execute_result"
    }
   ],
   "source": [
    "list2.pop(0)"
   ]
  },
  {
   "cell_type": "code",
   "execution_count": 51,
   "id": "defce492",
   "metadata": {},
   "outputs": [
    {
     "data": {
      "text/plain": [
       "[67, 200, 50, 60, 70, 100, 5, 'Maths', 66, 87, 92, [90, 33]]"
      ]
     },
     "execution_count": 51,
     "metadata": {},
     "output_type": "execute_result"
    }
   ],
   "source": [
    "list2"
   ]
  },
  {
   "cell_type": "code",
   "execution_count": 53,
   "id": "9246ad17",
   "metadata": {},
   "outputs": [
    {
     "data": {
      "text/plain": [
       "100"
      ]
     },
     "execution_count": 53,
     "metadata": {},
     "output_type": "execute_result"
    }
   ],
   "source": [
    "list2.pop(5)"
   ]
  },
  {
   "cell_type": "code",
   "execution_count": 57,
   "id": "9e76b287",
   "metadata": {},
   "outputs": [
    {
     "data": {
      "text/plain": [
       "[90, 33]"
      ]
     },
     "execution_count": 57,
     "metadata": {},
     "output_type": "execute_result"
    }
   ],
   "source": [
    "list2.pop(list2.index([90,33]))"
   ]
  },
  {
   "cell_type": "code",
   "execution_count": 58,
   "id": "5b047731",
   "metadata": {},
   "outputs": [
    {
     "data": {
      "text/plain": [
       "[67, 200, 50, 60, 70, 5, 66, 87, 92]"
      ]
     },
     "execution_count": 58,
     "metadata": {},
     "output_type": "execute_result"
    }
   ],
   "source": [
    "list2"
   ]
  },
  {
   "cell_type": "code",
   "execution_count": 55,
   "id": "95f3f0c4",
   "metadata": {},
   "outputs": [],
   "source": [
    "list2.remove('Maths')"
   ]
  },
  {
   "cell_type": "code",
   "execution_count": 59,
   "id": "4f561310",
   "metadata": {},
   "outputs": [
    {
     "data": {
      "text/plain": [
       "[67, 200, 50, 60, 70, 5, 66, 87, 92]"
      ]
     },
     "execution_count": 59,
     "metadata": {},
     "output_type": "execute_result"
    }
   ],
   "source": [
    "list2"
   ]
  },
  {
   "cell_type": "code",
   "execution_count": 61,
   "id": "e3392bfa",
   "metadata": {},
   "outputs": [],
   "source": [
    "del list2[0:2]"
   ]
  },
  {
   "cell_type": "code",
   "execution_count": 62,
   "id": "6fc761e8",
   "metadata": {},
   "outputs": [
    {
     "data": {
      "text/plain": [
       "[50, 60, 70, 5, 66, 87, 92]"
      ]
     },
     "execution_count": 62,
     "metadata": {},
     "output_type": "execute_result"
    }
   ],
   "source": [
    "list2"
   ]
  },
  {
   "cell_type": "markdown",
   "id": "087c62ae",
   "metadata": {},
   "source": [
    "### Some Methods on the list"
   ]
  },
  {
   "cell_type": "code",
   "execution_count": 63,
   "id": "619bec6f",
   "metadata": {},
   "outputs": [
    {
     "data": {
      "text/plain": [
       "[50, 60, 70, 5, 66, 87, 92]"
      ]
     },
     "execution_count": 63,
     "metadata": {},
     "output_type": "execute_result"
    }
   ],
   "source": [
    "list2"
   ]
  },
  {
   "cell_type": "code",
   "execution_count": 64,
   "id": "8828c424",
   "metadata": {},
   "outputs": [],
   "source": [
    "list3 = list2.copy()"
   ]
  },
  {
   "cell_type": "code",
   "execution_count": 65,
   "id": "8923e20f",
   "metadata": {},
   "outputs": [
    {
     "data": {
      "text/plain": [
       "[50, 60, 70, 5, 66, 87, 92]"
      ]
     },
     "execution_count": 65,
     "metadata": {},
     "output_type": "execute_result"
    }
   ],
   "source": [
    "list3"
   ]
  },
  {
   "cell_type": "code",
   "execution_count": 66,
   "id": "617a1e04",
   "metadata": {},
   "outputs": [
    {
     "data": {
      "text/plain": [
       "3127613397376"
      ]
     },
     "execution_count": 66,
     "metadata": {},
     "output_type": "execute_result"
    }
   ],
   "source": [
    "id(list3)"
   ]
  },
  {
   "cell_type": "code",
   "execution_count": 67,
   "id": "c59bca24",
   "metadata": {},
   "outputs": [
    {
     "data": {
      "text/plain": [
       "3127612254208"
      ]
     },
     "execution_count": 67,
     "metadata": {},
     "output_type": "execute_result"
    }
   ],
   "source": [
    "id(list2)"
   ]
  },
  {
   "cell_type": "code",
   "execution_count": 68,
   "id": "c0104bf7",
   "metadata": {},
   "outputs": [],
   "source": [
    "list4 = list2"
   ]
  },
  {
   "cell_type": "code",
   "execution_count": 70,
   "id": "1c921c33",
   "metadata": {},
   "outputs": [
    {
     "data": {
      "text/plain": [
       "3127612254208"
      ]
     },
     "execution_count": 70,
     "metadata": {},
     "output_type": "execute_result"
    }
   ],
   "source": [
    "id(list4)"
   ]
  },
  {
   "cell_type": "code",
   "execution_count": 71,
   "id": "27cdea7f",
   "metadata": {},
   "outputs": [
    {
     "data": {
      "text/plain": [
       "3127612254208"
      ]
     },
     "execution_count": 71,
     "metadata": {},
     "output_type": "execute_result"
    }
   ],
   "source": [
    "id(list2)"
   ]
  },
  {
   "cell_type": "code",
   "execution_count": 72,
   "id": "a3775680",
   "metadata": {},
   "outputs": [],
   "source": [
    "list2.sort() #sort the list by default in ascending order"
   ]
  },
  {
   "cell_type": "code",
   "execution_count": 73,
   "id": "32dbba75",
   "metadata": {},
   "outputs": [
    {
     "data": {
      "text/plain": [
       "[5, 50, 60, 66, 70, 87, 92]"
      ]
     },
     "execution_count": 73,
     "metadata": {},
     "output_type": "execute_result"
    }
   ],
   "source": [
    "list2"
   ]
  },
  {
   "cell_type": "code",
   "execution_count": 74,
   "id": "f958d69a",
   "metadata": {},
   "outputs": [],
   "source": [
    "list2.sort(reverse = True)"
   ]
  },
  {
   "cell_type": "code",
   "execution_count": 75,
   "id": "47563709",
   "metadata": {},
   "outputs": [
    {
     "data": {
      "text/plain": [
       "[92, 87, 70, 66, 60, 50, 5]"
      ]
     },
     "execution_count": 75,
     "metadata": {},
     "output_type": "execute_result"
    }
   ],
   "source": [
    "list2"
   ]
  },
  {
   "cell_type": "code",
   "execution_count": 76,
   "id": "7d9e6ca8",
   "metadata": {},
   "outputs": [
    {
     "data": {
      "text/plain": [
       "[50, 60, 70, 5, 66, 87, 92]"
      ]
     },
     "execution_count": 76,
     "metadata": {},
     "output_type": "execute_result"
    }
   ],
   "source": [
    "list3"
   ]
  },
  {
   "cell_type": "code",
   "execution_count": 78,
   "id": "e406908a",
   "metadata": {},
   "outputs": [],
   "source": [
    "sorted_list3 = sorted(list3)"
   ]
  },
  {
   "cell_type": "code",
   "execution_count": 79,
   "id": "2b91b4f5",
   "metadata": {},
   "outputs": [
    {
     "data": {
      "text/plain": [
       "[5, 50, 60, 66, 70, 87, 92]"
      ]
     },
     "execution_count": 79,
     "metadata": {},
     "output_type": "execute_result"
    }
   ],
   "source": [
    "sorted_list3"
   ]
  },
  {
   "cell_type": "code",
   "execution_count": 80,
   "id": "feabac24",
   "metadata": {},
   "outputs": [
    {
     "data": {
      "text/plain": [
       "[50, 60, 70, 5, 66, 87, 92]"
      ]
     },
     "execution_count": 80,
     "metadata": {},
     "output_type": "execute_result"
    }
   ],
   "source": [
    "list3"
   ]
  },
  {
   "cell_type": "code",
   "execution_count": 81,
   "id": "bd8f9014",
   "metadata": {},
   "outputs": [
    {
     "data": {
      "text/plain": [
       "[92, 87, 70, 66, 60, 50, 5]"
      ]
     },
     "execution_count": 81,
     "metadata": {},
     "output_type": "execute_result"
    }
   ],
   "source": [
    "sorted(list3, reverse = True)"
   ]
  },
  {
   "cell_type": "code",
   "execution_count": 82,
   "id": "679e3e72",
   "metadata": {},
   "outputs": [
    {
     "data": {
      "text/plain": [
       "[92, 87, 70, 66, 60, 50, 5]"
      ]
     },
     "execution_count": 82,
     "metadata": {},
     "output_type": "execute_result"
    }
   ],
   "source": [
    "list2"
   ]
  },
  {
   "cell_type": "code",
   "execution_count": 83,
   "id": "43416161",
   "metadata": {},
   "outputs": [],
   "source": [
    "list2.reverse()"
   ]
  },
  {
   "cell_type": "code",
   "execution_count": 84,
   "id": "507ab437",
   "metadata": {},
   "outputs": [
    {
     "data": {
      "text/plain": [
       "[5, 50, 60, 66, 70, 87, 92]"
      ]
     },
     "execution_count": 84,
     "metadata": {},
     "output_type": "execute_result"
    }
   ],
   "source": [
    "list2"
   ]
  },
  {
   "cell_type": "code",
   "execution_count": 85,
   "id": "3c51a450",
   "metadata": {},
   "outputs": [
    {
     "data": {
      "text/plain": [
       "[50, 60, 70, 5, 66, 87, 92]"
      ]
     },
     "execution_count": 85,
     "metadata": {},
     "output_type": "execute_result"
    }
   ],
   "source": [
    "list3"
   ]
  },
  {
   "cell_type": "code",
   "execution_count": 87,
   "id": "d014e0cc",
   "metadata": {},
   "outputs": [
    {
     "data": {
      "text/plain": [
       "[92, 87, 66, 5, 70, 60, 50]"
      ]
     },
     "execution_count": 87,
     "metadata": {},
     "output_type": "execute_result"
    }
   ],
   "source": [
    "list(reversed(list3))"
   ]
  },
  {
   "cell_type": "code",
   "execution_count": 88,
   "id": "24371cb0",
   "metadata": {},
   "outputs": [
    {
     "data": {
      "text/plain": [
       "[50, 60, 70, 5, 66, 87, 92]"
      ]
     },
     "execution_count": 88,
     "metadata": {},
     "output_type": "execute_result"
    }
   ],
   "source": [
    "list3"
   ]
  },
  {
   "cell_type": "code",
   "execution_count": 89,
   "id": "8144fb1c",
   "metadata": {},
   "outputs": [
    {
     "data": {
      "text/plain": [
       "1"
      ]
     },
     "execution_count": 89,
     "metadata": {},
     "output_type": "execute_result"
    }
   ],
   "source": [
    "list3.count(60)"
   ]
  },
  {
   "cell_type": "code",
   "execution_count": 90,
   "id": "b9ab0d3d",
   "metadata": {},
   "outputs": [
    {
     "data": {
      "text/plain": [
       "7"
      ]
     },
     "execution_count": 90,
     "metadata": {},
     "output_type": "execute_result"
    }
   ],
   "source": [
    "len(list3)"
   ]
  },
  {
   "cell_type": "code",
   "execution_count": 91,
   "id": "d78a9078",
   "metadata": {},
   "outputs": [
    {
     "data": {
      "text/plain": [
       "5"
      ]
     },
     "execution_count": 91,
     "metadata": {},
     "output_type": "execute_result"
    }
   ],
   "source": [
    "min(list3)"
   ]
  },
  {
   "cell_type": "code",
   "execution_count": 92,
   "id": "451d07b1",
   "metadata": {},
   "outputs": [
    {
     "data": {
      "text/plain": [
       "92"
      ]
     },
     "execution_count": 92,
     "metadata": {},
     "output_type": "execute_result"
    }
   ],
   "source": [
    "max(list3)"
   ]
  },
  {
   "cell_type": "code",
   "execution_count": 93,
   "id": "3afc66db",
   "metadata": {},
   "outputs": [
    {
     "data": {
      "text/plain": [
       "430"
      ]
     },
     "execution_count": 93,
     "metadata": {},
     "output_type": "execute_result"
    }
   ],
   "source": [
    "sum(list3)"
   ]
  },
  {
   "cell_type": "code",
   "execution_count": null,
   "id": "56e43d48",
   "metadata": {},
   "outputs": [],
   "source": []
  },
  {
   "cell_type": "markdown",
   "id": "560de1a7",
   "metadata": {},
   "source": [
    "## Tuples\n",
    "\n",
    "- It is a collection of mix data type.\n",
    "- It is immutable."
   ]
  },
  {
   "cell_type": "code",
   "execution_count": 95,
   "id": "0a89b85d",
   "metadata": {},
   "outputs": [],
   "source": [
    "tuple1 = (10,20,30,40,50,70.6, 44.3)"
   ]
  },
  {
   "cell_type": "code",
   "execution_count": 96,
   "id": "b076eae4",
   "metadata": {},
   "outputs": [
    {
     "data": {
      "text/plain": [
       "40"
      ]
     },
     "execution_count": 96,
     "metadata": {},
     "output_type": "execute_result"
    }
   ],
   "source": [
    "tuple1[3]"
   ]
  },
  {
   "cell_type": "code",
   "execution_count": 97,
   "id": "cb062725",
   "metadata": {},
   "outputs": [
    {
     "data": {
      "text/plain": [
       "(30, 50, 44.3)"
      ]
     },
     "execution_count": 97,
     "metadata": {},
     "output_type": "execute_result"
    }
   ],
   "source": [
    "tuple1[2:7:2]"
   ]
  },
  {
   "cell_type": "code",
   "execution_count": 98,
   "id": "d0db01e4",
   "metadata": {},
   "outputs": [
    {
     "ename": "TypeError",
     "evalue": "'tuple' object does not support item assignment",
     "output_type": "error",
     "traceback": [
      "\u001b[1;31m---------------------------------------------------------------------------\u001b[0m",
      "\u001b[1;31mTypeError\u001b[0m                                 Traceback (most recent call last)",
      "\u001b[1;32m<ipython-input-98-0e029b7b7ed9>\u001b[0m in \u001b[0;36m<module>\u001b[1;34m\u001b[0m\n\u001b[1;32m----> 1\u001b[1;33m \u001b[0mtuple1\u001b[0m\u001b[1;33m[\u001b[0m\u001b[1;36m5\u001b[0m\u001b[1;33m]\u001b[0m \u001b[1;33m=\u001b[0m \u001b[1;36m900\u001b[0m\u001b[1;33m\u001b[0m\u001b[1;33m\u001b[0m\u001b[0m\n\u001b[0m",
      "\u001b[1;31mTypeError\u001b[0m: 'tuple' object does not support item assignment"
     ]
    }
   ],
   "source": [
    "tuple1[5] = 900"
   ]
  },
  {
   "cell_type": "markdown",
   "id": "fc173c64-d6f1-4cbc-ae63-3113fdbada01",
   "metadata": {},
   "source": [
    "#### To make changes in the tuples we follow the below process"
   ]
  },
  {
   "cell_type": "code",
   "execution_count": 99,
   "id": "c848a14d",
   "metadata": {},
   "outputs": [],
   "source": [
    "user_pins = (1001, 9987, 9943, 2234, 6676, 5543)"
   ]
  },
  {
   "cell_type": "code",
   "execution_count": 100,
   "id": "4f2c1ae5",
   "metadata": {},
   "outputs": [],
   "source": [
    "temp = list(user_pins)"
   ]
  },
  {
   "cell_type": "code",
   "execution_count": 101,
   "id": "0c47bd09",
   "metadata": {},
   "outputs": [
    {
     "data": {
      "text/plain": [
       "[1001, 9987, 9943, 2234, 6676, 5543]"
      ]
     },
     "execution_count": 101,
     "metadata": {},
     "output_type": "execute_result"
    }
   ],
   "source": [
    "temp"
   ]
  },
  {
   "cell_type": "code",
   "execution_count": 102,
   "id": "fd62d029",
   "metadata": {},
   "outputs": [],
   "source": [
    "temp.append(1100)"
   ]
  },
  {
   "cell_type": "code",
   "execution_count": 104,
   "id": "72227e41",
   "metadata": {},
   "outputs": [],
   "source": [
    "user_pins = tuple(temp)"
   ]
  },
  {
   "cell_type": "code",
   "execution_count": 105,
   "id": "5d3d7527",
   "metadata": {},
   "outputs": [
    {
     "data": {
      "text/plain": [
       "(1001, 9987, 9943, 2234, 6676, 5543, 1100)"
      ]
     },
     "execution_count": 105,
     "metadata": {},
     "output_type": "execute_result"
    }
   ],
   "source": [
    "user_pins"
   ]
  },
  {
   "cell_type": "markdown",
   "id": "7c680898",
   "metadata": {},
   "source": [
    "### Some Methods in tuple"
   ]
  },
  {
   "cell_type": "code",
   "execution_count": 106,
   "id": "7529a3f5",
   "metadata": {},
   "outputs": [
    {
     "data": {
      "text/plain": [
       "(10, 20, 30, 40, 50, 70.6, 44.3)"
      ]
     },
     "execution_count": 106,
     "metadata": {},
     "output_type": "execute_result"
    }
   ],
   "source": [
    "tuple1"
   ]
  },
  {
   "cell_type": "code",
   "execution_count": 107,
   "id": "609fbeb3",
   "metadata": {},
   "outputs": [
    {
     "ename": "AttributeError",
     "evalue": "'tuple' object has no attribute 'sort'",
     "output_type": "error",
     "traceback": [
      "\u001b[1;31m---------------------------------------------------------------------------\u001b[0m",
      "\u001b[1;31mAttributeError\u001b[0m                            Traceback (most recent call last)",
      "\u001b[1;32m<ipython-input-107-0d703b2019c0>\u001b[0m in \u001b[0;36m<module>\u001b[1;34m\u001b[0m\n\u001b[1;32m----> 1\u001b[1;33m \u001b[0mtuple1\u001b[0m\u001b[1;33m.\u001b[0m\u001b[0msort\u001b[0m\u001b[1;33m(\u001b[0m\u001b[1;33m)\u001b[0m\u001b[1;33m\u001b[0m\u001b[1;33m\u001b[0m\u001b[0m\n\u001b[0m",
      "\u001b[1;31mAttributeError\u001b[0m: 'tuple' object has no attribute 'sort'"
     ]
    }
   ],
   "source": [
    "tuple1.sort()"
   ]
  },
  {
   "cell_type": "code",
   "execution_count": 109,
   "id": "676e26af",
   "metadata": {},
   "outputs": [
    {
     "data": {
      "text/plain": [
       "(10, 20, 30, 40, 44.3, 50, 70.6)"
      ]
     },
     "execution_count": 109,
     "metadata": {},
     "output_type": "execute_result"
    }
   ],
   "source": [
    "tuple(sorted(tuple1))"
   ]
  },
  {
   "cell_type": "code",
   "execution_count": 111,
   "id": "e5ec70b4",
   "metadata": {},
   "outputs": [
    {
     "data": {
      "text/plain": [
       "(70.6, 50, 44.3, 40, 30, 20, 10)"
      ]
     },
     "execution_count": 111,
     "metadata": {},
     "output_type": "execute_result"
    }
   ],
   "source": [
    "tuple(sorted(tuple1, reverse = True))"
   ]
  },
  {
   "cell_type": "code",
   "execution_count": 113,
   "id": "2f95f86f",
   "metadata": {},
   "outputs": [
    {
     "data": {
      "text/plain": [
       "0"
      ]
     },
     "execution_count": 113,
     "metadata": {},
     "output_type": "execute_result"
    }
   ],
   "source": [
    "tuple1.count(100)"
   ]
  },
  {
   "cell_type": "code",
   "execution_count": 114,
   "id": "ffa1b452",
   "metadata": {},
   "outputs": [
    {
     "data": {
      "text/plain": [
       "2"
      ]
     },
     "execution_count": 114,
     "metadata": {},
     "output_type": "execute_result"
    }
   ],
   "source": [
    "tuple1.index(30)"
   ]
  },
  {
   "cell_type": "code",
   "execution_count": 115,
   "id": "9baf6cbb",
   "metadata": {},
   "outputs": [
    {
     "data": {
      "text/plain": [
       "10"
      ]
     },
     "execution_count": 115,
     "metadata": {},
     "output_type": "execute_result"
    }
   ],
   "source": [
    "min(tuple1)"
   ]
  },
  {
   "cell_type": "code",
   "execution_count": 116,
   "id": "560df9eb",
   "metadata": {},
   "outputs": [
    {
     "data": {
      "text/plain": [
       "70.6"
      ]
     },
     "execution_count": 116,
     "metadata": {},
     "output_type": "execute_result"
    }
   ],
   "source": [
    "max(tuple1)"
   ]
  },
  {
   "cell_type": "code",
   "execution_count": 117,
   "id": "8fe153da",
   "metadata": {},
   "outputs": [
    {
     "data": {
      "text/plain": [
       "264.9"
      ]
     },
     "execution_count": 117,
     "metadata": {},
     "output_type": "execute_result"
    }
   ],
   "source": [
    "sum(tuple1)"
   ]
  },
  {
   "cell_type": "code",
   "execution_count": null,
   "id": "28afbbf1",
   "metadata": {},
   "outputs": [],
   "source": []
  },
  {
   "cell_type": "markdown",
   "id": "d8171837",
   "metadata": {},
   "source": [
    "## Strings"
   ]
  },
  {
   "cell_type": "code",
   "execution_count": 1,
   "id": "cad6cb8b",
   "metadata": {},
   "outputs": [],
   "source": [
    "word1 = 'Python Programming'"
   ]
  },
  {
   "cell_type": "code",
   "execution_count": 2,
   "id": "c5f6c694",
   "metadata": {},
   "outputs": [],
   "source": [
    "word2 = \"Python Programming\""
   ]
  },
  {
   "cell_type": "code",
   "execution_count": 3,
   "id": "b529383d",
   "metadata": {},
   "outputs": [],
   "source": [
    "word3 = 'Python is the most preferred language for Data Science and Machine Learning'"
   ]
  },
  {
   "cell_type": "markdown",
   "id": "aeb51946",
   "metadata": {},
   "source": [
    "### Indexing and Slicing"
   ]
  },
  {
   "cell_type": "code",
   "execution_count": 4,
   "id": "f4f48a20",
   "metadata": {},
   "outputs": [
    {
     "data": {
      "text/plain": [
       "'Python is the most preferred language for Data Science and Machine Learning'"
      ]
     },
     "execution_count": 4,
     "metadata": {},
     "output_type": "execute_result"
    }
   ],
   "source": [
    "word3"
   ]
  },
  {
   "cell_type": "code",
   "execution_count": 5,
   "id": "d4ded57c",
   "metadata": {},
   "outputs": [
    {
     "data": {
      "text/plain": [
       "'y'"
      ]
     },
     "execution_count": 5,
     "metadata": {},
     "output_type": "execute_result"
    }
   ],
   "source": [
    "word3[1]"
   ]
  },
  {
   "cell_type": "code",
   "execution_count": 7,
   "id": "c96a404c",
   "metadata": {},
   "outputs": [
    {
     "data": {
      "text/plain": [
       "'i'"
      ]
     },
     "execution_count": 7,
     "metadata": {},
     "output_type": "execute_result"
    }
   ],
   "source": [
    "word3[-3]"
   ]
  },
  {
   "cell_type": "code",
   "execution_count": 9,
   "id": "303c2e61",
   "metadata": {},
   "outputs": [
    {
     "data": {
      "text/plain": [
       "'Python'"
      ]
     },
     "execution_count": 9,
     "metadata": {},
     "output_type": "execute_result"
    }
   ],
   "source": [
    "word3[0:6]"
   ]
  },
  {
   "cell_type": "code",
   "execution_count": 10,
   "id": "e73e814b",
   "metadata": {},
   "outputs": [
    {
     "data": {
      "text/plain": [
       "'Data Science'"
      ]
     },
     "execution_count": 10,
     "metadata": {},
     "output_type": "execute_result"
    }
   ],
   "source": [
    "word3[word3.index('Data') : word3.index('Data') + len('Data Science')]"
   ]
  },
  {
   "cell_type": "markdown",
   "id": "90fdf0a5",
   "metadata": {},
   "source": [
    "### String Methods"
   ]
  },
  {
   "cell_type": "code",
   "execution_count": 11,
   "id": "edbcb0e1",
   "metadata": {},
   "outputs": [
    {
     "data": {
      "text/plain": [
       "42"
      ]
     },
     "execution_count": 11,
     "metadata": {},
     "output_type": "execute_result"
    }
   ],
   "source": [
    "word3.find('Data')"
   ]
  },
  {
   "cell_type": "code",
   "execution_count": 12,
   "id": "d3184fb3",
   "metadata": {},
   "outputs": [
    {
     "data": {
      "text/plain": [
       "-1"
      ]
     },
     "execution_count": 12,
     "metadata": {},
     "output_type": "execute_result"
    }
   ],
   "source": [
    "word3.find('Java')"
   ]
  },
  {
   "cell_type": "code",
   "execution_count": 13,
   "id": "f8f05ef8",
   "metadata": {},
   "outputs": [
    {
     "data": {
      "text/plain": [
       "0"
      ]
     },
     "execution_count": 13,
     "metadata": {},
     "output_type": "execute_result"
    }
   ],
   "source": [
    "word3.index('Python')"
   ]
  },
  {
   "cell_type": "code",
   "execution_count": 14,
   "id": "010995c1",
   "metadata": {},
   "outputs": [
    {
     "data": {
      "text/plain": [
       "'Java is the most preferred language for Data Science and Machine Learning'"
      ]
     },
     "execution_count": 14,
     "metadata": {},
     "output_type": "execute_result"
    }
   ],
   "source": [
    "word3.replace('Python', 'Java')"
   ]
  },
  {
   "cell_type": "code",
   "execution_count": 16,
   "id": "06e7d4c3",
   "metadata": {},
   "outputs": [
    {
     "data": {
      "text/plain": [
       "'PYTHON PROGRAMMING'"
      ]
     },
     "execution_count": 16,
     "metadata": {},
     "output_type": "execute_result"
    }
   ],
   "source": [
    "word1.upper()"
   ]
  },
  {
   "cell_type": "code",
   "execution_count": 17,
   "id": "cf1e39cb",
   "metadata": {},
   "outputs": [
    {
     "data": {
      "text/plain": [
       "'python programming'"
      ]
     },
     "execution_count": 17,
     "metadata": {},
     "output_type": "execute_result"
    }
   ],
   "source": [
    "word2.lower()"
   ]
  },
  {
   "cell_type": "code",
   "execution_count": 18,
   "id": "0c2956d9",
   "metadata": {},
   "outputs": [
    {
     "data": {
      "text/plain": [
       "'Python Programming'"
      ]
     },
     "execution_count": 18,
     "metadata": {},
     "output_type": "execute_result"
    }
   ],
   "source": [
    "word2.title()"
   ]
  },
  {
   "cell_type": "code",
   "execution_count": 20,
   "id": "5707a6c5",
   "metadata": {},
   "outputs": [
    {
     "data": {
      "text/plain": [
       "'Python is the most preferred language for data science and machine learning'"
      ]
     },
     "execution_count": 20,
     "metadata": {},
     "output_type": "execute_result"
    }
   ],
   "source": [
    "word3.capitalize()"
   ]
  },
  {
   "cell_type": "code",
   "execution_count": 22,
   "id": "a801d901",
   "metadata": {},
   "outputs": [
    {
     "data": {
      "text/plain": [
       "'Python'"
      ]
     },
     "execution_count": 22,
     "metadata": {},
     "output_type": "execute_result"
    }
   ],
   "source": [
    "'  Python'.lstrip()"
   ]
  },
  {
   "cell_type": "code",
   "execution_count": 23,
   "id": "3200e1e4",
   "metadata": {},
   "outputs": [
    {
     "data": {
      "text/plain": [
       "'Python'"
      ]
     },
     "execution_count": 23,
     "metadata": {},
     "output_type": "execute_result"
    }
   ],
   "source": [
    "'Python  '.rstrip()"
   ]
  },
  {
   "cell_type": "code",
   "execution_count": 24,
   "id": "a14f297b",
   "metadata": {},
   "outputs": [
    {
     "data": {
      "text/plain": [
       "'Python'"
      ]
     },
     "execution_count": 24,
     "metadata": {},
     "output_type": "execute_result"
    }
   ],
   "source": [
    "'  Python  '.strip()"
   ]
  },
  {
   "cell_type": "code",
   "execution_count": 25,
   "id": "6ce4e964",
   "metadata": {},
   "outputs": [
    {
     "data": {
      "text/plain": [
       "'Python Programming'"
      ]
     },
     "execution_count": 25,
     "metadata": {},
     "output_type": "execute_result"
    }
   ],
   "source": [
    "'Python   Programming'.replace('  ', '')"
   ]
  },
  {
   "cell_type": "code",
   "execution_count": 27,
   "id": "652a204d",
   "metadata": {},
   "outputs": [
    {
     "name": "stdout",
     "output_type": "stream",
     "text": [
      "['Python', 'is', 'the', 'most', 'preferred', 'language', 'for', 'Data', 'Science', 'and', 'Machine', 'Learning']\n"
     ]
    }
   ],
   "source": [
    "word3.split()  #split a text into list of words"
   ]
  },
  {
   "cell_type": "code",
   "execution_count": 28,
   "id": "40adba61",
   "metadata": {},
   "outputs": [],
   "source": [
    "list_of_words = word3.split()"
   ]
  },
  {
   "cell_type": "code",
   "execution_count": 29,
   "id": "5ef3a6e7",
   "metadata": {},
   "outputs": [
    {
     "data": {
      "text/plain": [
       "'Python is the most preferred language for Data Science and Machine Learning'"
      ]
     },
     "execution_count": 29,
     "metadata": {},
     "output_type": "execute_result"
    }
   ],
   "source": [
    "' '.join(list_of_words)"
   ]
  },
  {
   "cell_type": "code",
   "execution_count": 30,
   "id": "fb2c85b6",
   "metadata": {},
   "outputs": [
    {
     "data": {
      "text/plain": [
       "'Python-is-the-most-preferred-language-for-Data-Science-and-Machine-Learning'"
      ]
     },
     "execution_count": 30,
     "metadata": {},
     "output_type": "execute_result"
    }
   ],
   "source": [
    "'-'.join(list_of_words)"
   ]
  },
  {
   "cell_type": "markdown",
   "id": "6922f939",
   "metadata": {},
   "source": [
    "#### Taking input from users and String Formatting"
   ]
  },
  {
   "cell_type": "code",
   "execution_count": 2,
   "id": "9f14866e",
   "metadata": {},
   "outputs": [
    {
     "name": "stdout",
     "output_type": "stream",
     "text": [
      "Enter your age: 23\n"
     ]
    }
   ],
   "source": [
    "age = input('Enter your age: ')"
   ]
  },
  {
   "cell_type": "code",
   "execution_count": 3,
   "id": "04bee960",
   "metadata": {},
   "outputs": [
    {
     "data": {
      "text/plain": [
       "str"
      ]
     },
     "execution_count": 3,
     "metadata": {},
     "output_type": "execute_result"
    }
   ],
   "source": [
    "type(age)"
   ]
  },
  {
   "cell_type": "code",
   "execution_count": 4,
   "id": "b6df2a5b",
   "metadata": {},
   "outputs": [
    {
     "name": "stdout",
     "output_type": "stream",
     "text": [
      "Enter your age: 23\n"
     ]
    }
   ],
   "source": [
    "age = int(input('Enter your age: '))"
   ]
  },
  {
   "cell_type": "code",
   "execution_count": 5,
   "id": "db419d76",
   "metadata": {},
   "outputs": [
    {
     "data": {
      "text/plain": [
       "int"
      ]
     },
     "execution_count": 5,
     "metadata": {},
     "output_type": "execute_result"
    }
   ],
   "source": [
    "type(age)"
   ]
  },
  {
   "cell_type": "code",
   "execution_count": 6,
   "id": "57d8feb1",
   "metadata": {},
   "outputs": [
    {
     "name": "stdout",
     "output_type": "stream",
     "text": [
      "Enter your name: Shikhar\n"
     ]
    }
   ],
   "source": [
    "name = input('Enter your name: ')"
   ]
  },
  {
   "cell_type": "code",
   "execution_count": 7,
   "id": "c5085986",
   "metadata": {},
   "outputs": [
    {
     "name": "stdout",
     "output_type": "stream",
     "text": [
      "Enter your place of stay: Delhi\n"
     ]
    }
   ],
   "source": [
    "place = input('Enter your place of stay: ')"
   ]
  },
  {
   "cell_type": "code",
   "execution_count": 8,
   "id": "5433e5fc",
   "metadata": {},
   "outputs": [
    {
     "name": "stdout",
     "output_type": "stream",
     "text": [
      "My name is Shikhar, I am 23 years old and I stay in Delhi.\n"
     ]
    }
   ],
   "source": [
    "print('My name is Shikhar, I am 23 years old and I stay in Delhi.')"
   ]
  },
  {
   "cell_type": "code",
   "execution_count": 10,
   "id": "5cebc5b1",
   "metadata": {},
   "outputs": [
    {
     "name": "stdout",
     "output_type": "stream",
     "text": [
      "My name is Shikhar, I am 23 years old and I stay in Delhi.\n"
     ]
    }
   ],
   "source": [
    "#string formatting\n",
    "print(f'My name is {name}, I am {age} years old and I stay in {place}.')"
   ]
  },
  {
   "cell_type": "code",
   "execution_count": null,
   "id": "01d55e62",
   "metadata": {},
   "outputs": [],
   "source": []
  }
 ],
 "metadata": {
  "kernelspec": {
   "display_name": "Python 3 (ipykernel)",
   "language": "python",
   "name": "python3"
  },
  "language_info": {
   "codemirror_mode": {
    "name": "ipython",
    "version": 3
   },
   "file_extension": ".py",
   "mimetype": "text/x-python",
   "name": "python",
   "nbconvert_exporter": "python",
   "pygments_lexer": "ipython3",
   "version": "3.11.7"
  }
 },
 "nbformat": 4,
 "nbformat_minor": 5
}
