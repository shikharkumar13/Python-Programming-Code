{
 "cells": [
  {
   "cell_type": "markdown",
   "id": "94d99c11-dc03-4cab-bae4-887155b7d278",
   "metadata": {},
   "source": [
    "## <font color = 'Darkgreen'>Sets\n",
    "\n",
    "- Sets are mutable data types.\n",
    "- Set is unordered collection of items.\n",
    "- Set only allow unique values to be stored."
   ]
  },
  {
   "cell_type": "code",
   "execution_count": 1,
   "id": "3c44f06f-4d49-43b1-83a5-3af4ed8c980e",
   "metadata": {},
   "outputs": [],
   "source": [
    "set1 = {10, 20, 30, 30, 40, 50, 50, 60, 70, 80, 90}"
   ]
  },
  {
   "cell_type": "code",
   "execution_count": 2,
   "id": "27ef7d4d-7ba9-4ce0-9887-8d21125614af",
   "metadata": {},
   "outputs": [
    {
     "name": "stdout",
     "output_type": "stream",
     "text": [
      "{70, 40, 10, 80, 50, 20, 90, 60, 30}\n"
     ]
    }
   ],
   "source": [
    "print(set1)"
   ]
  },
  {
   "cell_type": "markdown",
   "id": "59509fe4-6e34-4d21-a93b-7216003d7c99",
   "metadata": {},
   "source": [
    "###### See above that we have only unique values in the set and they are unordered by default."
   ]
  },
  {
   "cell_type": "code",
   "execution_count": 3,
   "id": "af1d552b-57be-4c49-9624-48e331e257c1",
   "metadata": {},
   "outputs": [
    {
     "ename": "TypeError",
     "evalue": "'set' object is not subscriptable",
     "output_type": "error",
     "traceback": [
      "\u001b[1;31m---------------------------------------------------------------------------\u001b[0m",
      "\u001b[1;31mTypeError\u001b[0m                                 Traceback (most recent call last)",
      "Cell \u001b[1;32mIn[3], line 1\u001b[0m\n\u001b[1;32m----> 1\u001b[0m set1[\u001b[38;5;241m3\u001b[39m]\n",
      "\u001b[1;31mTypeError\u001b[0m: 'set' object is not subscriptable"
     ]
    }
   ],
   "source": [
    "#indexing and slicing doesn't work in set since they are unordered\n",
    "set1[3]"
   ]
  },
  {
   "cell_type": "markdown",
   "id": "1781af52-4ecb-4a88-a648-45c6a69828a1",
   "metadata": {},
   "source": [
    "##### We can use set to remove duplicates from a list"
   ]
  },
  {
   "cell_type": "code",
   "execution_count": 4,
   "id": "be263661-d1e6-4617-b6a8-a2677c5723d6",
   "metadata": {},
   "outputs": [],
   "source": [
    "list1 = [10, 20, 30, 30, 40, 50, 50, 60, 70, 80, 90]"
   ]
  },
  {
   "cell_type": "code",
   "execution_count": 5,
   "id": "a138adbc-27af-45a8-a219-d3a9a5f7065b",
   "metadata": {},
   "outputs": [],
   "source": [
    "list1 = list(set(list1))"
   ]
  },
  {
   "cell_type": "code",
   "execution_count": 6,
   "id": "1063ddd2-b30b-4dfa-9de2-0be0deafebab",
   "metadata": {},
   "outputs": [
    {
     "data": {
      "text/plain": [
       "[70, 40, 10, 80, 50, 20, 90, 60, 30]"
      ]
     },
     "execution_count": 6,
     "metadata": {},
     "output_type": "execute_result"
    }
   ],
   "source": [
    "#final result is a list with unique elements\n",
    "list1"
   ]
  },
  {
   "cell_type": "markdown",
   "id": "1eb96057-a154-4c44-9307-1e9da51039c8",
   "metadata": {},
   "source": [
    "#### Inserting values into a set"
   ]
  },
  {
   "cell_type": "code",
   "execution_count": 8,
   "id": "7cb5c27c-366c-4b6c-9083-ddf444c8f76f",
   "metadata": {},
   "outputs": [],
   "source": [
    "#to insert one element into a set at a time\n",
    "set1.add(100)"
   ]
  },
  {
   "cell_type": "code",
   "execution_count": 10,
   "id": "9322cc3a-13cf-4cdd-9d35-ff19f34a653c",
   "metadata": {},
   "outputs": [
    {
     "name": "stdout",
     "output_type": "stream",
     "text": [
      "{100, 70, 40, 10, 80, 50, 20, 90, 60, 30}\n"
     ]
    }
   ],
   "source": [
    "print(set1)"
   ]
  },
  {
   "cell_type": "code",
   "execution_count": 11,
   "id": "80bd6439-d63d-4132-b182-0da11639a51f",
   "metadata": {},
   "outputs": [],
   "source": [
    "#to insert multiple values into the set\n",
    "set1.update({89, 45, 77})"
   ]
  },
  {
   "cell_type": "code",
   "execution_count": 12,
   "id": "ee856b19-4be0-4f12-a9b6-baf8705a87a8",
   "metadata": {},
   "outputs": [
    {
     "name": "stdout",
     "output_type": "stream",
     "text": [
      "{100, 70, 40, 10, 45, 77, 80, 50, 20, 89, 90, 60, 30}\n"
     ]
    }
   ],
   "source": [
    "print(set1)"
   ]
  },
  {
   "cell_type": "markdown",
   "id": "34fb62f9-7d48-4e65-b320-41fc7999e204",
   "metadata": {},
   "source": [
    "#### Delete Values from a set"
   ]
  },
  {
   "cell_type": "code",
   "execution_count": 13,
   "id": "99029e12-5a16-4cd1-b1b4-aefc4f79cd74",
   "metadata": {},
   "outputs": [
    {
     "data": {
      "text/plain": [
       "100"
      ]
     },
     "execution_count": 13,
     "metadata": {},
     "output_type": "execute_result"
    }
   ],
   "source": [
    "#remove an item from the set randomly\n",
    "set1.pop()"
   ]
  },
  {
   "cell_type": "code",
   "execution_count": 15,
   "id": "4f22a40b-4bfc-4b43-84d4-7be004464e38",
   "metadata": {},
   "outputs": [],
   "source": [
    "#remove a particular item from the set\n",
    "set1.remove(89)"
   ]
  },
  {
   "cell_type": "code",
   "execution_count": 16,
   "id": "182ff0c7-8c59-4780-a6f0-a8a60e0b5ada",
   "metadata": {},
   "outputs": [],
   "source": [
    "#remove item using `discard` method\n",
    "set1.discard(90)"
   ]
  },
  {
   "cell_type": "markdown",
   "id": "2ff5892c-92e5-473f-b8cd-470d9b3be779",
   "metadata": {},
   "source": [
    "##### Difference between remove and discard method is that remove gives error when the item we want to remove does not exist whereas discard does not throw any error in any case"
   ]
  },
  {
   "cell_type": "code",
   "execution_count": 17,
   "id": "4fc43c6f-82c9-49c1-8612-c6fbf6d24362",
   "metadata": {},
   "outputs": [
    {
     "ename": "KeyError",
     "evalue": "900",
     "output_type": "error",
     "traceback": [
      "\u001b[1;31m---------------------------------------------------------------------------\u001b[0m",
      "\u001b[1;31mKeyError\u001b[0m                                  Traceback (most recent call last)",
      "Cell \u001b[1;32mIn[17], line 1\u001b[0m\n\u001b[1;32m----> 1\u001b[0m set1\u001b[38;5;241m.\u001b[39mremove(\u001b[38;5;241m900\u001b[39m)\n",
      "\u001b[1;31mKeyError\u001b[0m: 900"
     ]
    }
   ],
   "source": [
    "set1.remove(900)"
   ]
  },
  {
   "cell_type": "code",
   "execution_count": 18,
   "id": "38cb9494-6579-4902-a4fc-321a5da7c492",
   "metadata": {},
   "outputs": [],
   "source": [
    "set1.discard(900)"
   ]
  },
  {
   "cell_type": "markdown",
   "id": "34eabe9b-42c9-4c7c-b4e8-7a02e6a1c6b0",
   "metadata": {},
   "source": [
    "#### Some Set Methods\n",
    "\n",
    "- Union \n",
    "- Intersection\n",
    "- Difference \n",
    "- Symmetric Difference\n",
    "- isdisjoint\n",
    "- issubset\n",
    "- issuperset"
   ]
  },
  {
   "cell_type": "code",
   "execution_count": 19,
   "id": "9f0b0452-b221-489c-bb03-9c93c941b88e",
   "metadata": {},
   "outputs": [],
   "source": [
    "set2 = {10,20,30,40,50,60,70}\n",
    "set3 = {60,70,80,90,100,110,120}"
   ]
  },
  {
   "cell_type": "code",
   "execution_count": 20,
   "id": "98cfff28-13d0-4c5c-9b5c-3527e6e68a67",
   "metadata": {},
   "outputs": [
    {
     "data": {
      "text/plain": [
       "{10, 20, 30, 40, 50, 60, 70, 80, 90, 100, 110, 120}"
      ]
     },
     "execution_count": 20,
     "metadata": {},
     "output_type": "execute_result"
    }
   ],
   "source": [
    "#set of items from the both the sets which must be unique\n",
    "set2.union(set3)"
   ]
  },
  {
   "cell_type": "code",
   "execution_count": 21,
   "id": "9ed1e32e-8693-4b1d-b96b-b9de17e84fee",
   "metadata": {},
   "outputs": [
    {
     "data": {
      "text/plain": [
       "{60, 70}"
      ]
     },
     "execution_count": 21,
     "metadata": {},
     "output_type": "execute_result"
    }
   ],
   "source": [
    "#common elements in both the sets\n",
    "set2.intersection(set3)"
   ]
  },
  {
   "cell_type": "code",
   "execution_count": 22,
   "id": "0ddd2e5d-e3cb-423e-872f-4ab364976318",
   "metadata": {},
   "outputs": [
    {
     "data": {
      "text/plain": [
       "{10, 20, 30, 40, 50}"
      ]
     },
     "execution_count": 22,
     "metadata": {},
     "output_type": "execute_result"
    }
   ],
   "source": [
    "#items which are purely in set2 and no items belonging to set3\n",
    "set2.difference(set3)"
   ]
  },
  {
   "cell_type": "code",
   "execution_count": 23,
   "id": "81ec884a-c00b-4237-873e-e270ce89fb21",
   "metadata": {},
   "outputs": [
    {
     "data": {
      "text/plain": [
       "{80, 90, 100, 110, 120}"
      ]
     },
     "execution_count": 23,
     "metadata": {},
     "output_type": "execute_result"
    }
   ],
   "source": [
    "#items that belong to set3 and no items belonging to set2\n",
    "set3.difference(set2)"
   ]
  },
  {
   "cell_type": "code",
   "execution_count": 24,
   "id": "4d57ac34-59d2-4986-a966-66f2aa5b223d",
   "metadata": {},
   "outputs": [
    {
     "data": {
      "text/plain": [
       "{10, 20, 30, 40, 50, 80, 90, 100, 110, 120}"
      ]
     },
     "execution_count": 24,
     "metadata": {},
     "output_type": "execute_result"
    }
   ],
   "source": [
    "#set of items from set2 and set3 except the common ones\n",
    "set2.symmetric_difference(set3)"
   ]
  },
  {
   "cell_type": "code",
   "execution_count": 26,
   "id": "514222b4-518f-4e30-aaae-36904f27f2a1",
   "metadata": {},
   "outputs": [
    {
     "data": {
      "text/plain": [
       "False"
      ]
     },
     "execution_count": 26,
     "metadata": {},
     "output_type": "execute_result"
    }
   ],
   "source": [
    "#return True if no elements in two sets are common\n",
    "set2.isdisjoint(set3)"
   ]
  },
  {
   "cell_type": "code",
   "execution_count": 27,
   "id": "cfc2329f-7b02-4e2e-9f2d-1f7b9288a11b",
   "metadata": {},
   "outputs": [],
   "source": [
    "set4 = {10, 30, 40, 50}"
   ]
  },
  {
   "cell_type": "code",
   "execution_count": 28,
   "id": "267225d2-9ee5-467e-b5cf-1fdfdf955843",
   "metadata": {},
   "outputs": [
    {
     "data": {
      "text/plain": [
       "True"
      ]
     },
     "execution_count": 28,
     "metadata": {},
     "output_type": "execute_result"
    }
   ],
   "source": [
    "#if every element of set4 is in set2 then set4 is subset of set2\n",
    "set4.issubset(set2)"
   ]
  },
  {
   "cell_type": "code",
   "execution_count": 29,
   "id": "8195dda8-8b61-4e3a-945d-257913db8e24",
   "metadata": {},
   "outputs": [
    {
     "data": {
      "text/plain": [
       "True"
      ]
     },
     "execution_count": 29,
     "metadata": {},
     "output_type": "execute_result"
    }
   ],
   "source": [
    "#reverse of subset where every element of set4 must be in set2\n",
    "set2.issuperset(set4)"
   ]
  },
  {
   "cell_type": "markdown",
   "id": "492765b3-7ee8-43db-99f6-3fc9ab3aa125",
   "metadata": {},
   "source": [
    "## <font color = 'Darkgreen'>Dictionaries\n",
    "\n",
    "- Dictionaries are unordered collection of items.\n",
    "- It is a mutable data types.\n",
    "- It stores key-value pairs.\n",
    "- It only allow unique values."
   ]
  },
  {
   "cell_type": "code",
   "execution_count": 30,
   "id": "0cf76950-3d23-40f2-b77a-4b0512fdde0b",
   "metadata": {},
   "outputs": [],
   "source": [
    "dict1 = {'name': 'Shikhar', 'place': 'India', 'roles': ['Data Scientist', 'Data Science Trainer'], \n",
    "         'hobbies': ('Fitness', 'Football'), 'education': {1: 'Masters', 2: 'Bachelors'}}"
   ]
  },
  {
   "cell_type": "code",
   "execution_count": 31,
   "id": "93bdc8b0-3471-45c9-8d6c-add07d58f440",
   "metadata": {},
   "outputs": [
    {
     "data": {
      "text/plain": [
       "{'name': 'Shikhar',\n",
       " 'place': 'India',\n",
       " 'roles': ['Data Scientist', 'Data Science Trainer'],\n",
       " 'hobbies': ('Fitness', 'Football'),\n",
       " 'education': {1: 'Masters', 2: 'Bachelors'}}"
      ]
     },
     "execution_count": 31,
     "metadata": {},
     "output_type": "execute_result"
    }
   ],
   "source": [
    "dict1"
   ]
  },
  {
   "cell_type": "markdown",
   "id": "1bc1db8e-a09a-4d87-822f-8a4723ff2f58",
   "metadata": {},
   "source": [
    "#### Accessing the values of a dictionary"
   ]
  },
  {
   "cell_type": "code",
   "execution_count": 32,
   "id": "8ab1767d-5168-4c64-aae9-95d6a3588db0",
   "metadata": {},
   "outputs": [
    {
     "data": {
      "text/plain": [
       "['Data Scientist', 'Data Science Trainer']"
      ]
     },
     "execution_count": 32,
     "metadata": {},
     "output_type": "execute_result"
    }
   ],
   "source": [
    "#to access a value from a dictionary we access the keys related to that value\n",
    "dict1['roles']"
   ]
  },
  {
   "cell_type": "code",
   "execution_count": 33,
   "id": "9e8f18f3-a3f7-4f28-b2ba-52660cf7bd7a",
   "metadata": {},
   "outputs": [
    {
     "data": {
      "text/plain": [
       "['Data Scientist', 'Data Science Trainer']"
      ]
     },
     "execution_count": 33,
     "metadata": {},
     "output_type": "execute_result"
    }
   ],
   "source": [
    "#alternate way to access the values of a dictionary\n",
    "dict1.get('roles')"
   ]
  },
  {
   "cell_type": "code",
   "execution_count": 34,
   "id": "5ef46d7c-b73e-40e6-a3c5-55289892f7eb",
   "metadata": {},
   "outputs": [
    {
     "data": {
      "text/plain": [
       "'Data Science Trainer'"
      ]
     },
     "execution_count": 34,
     "metadata": {},
     "output_type": "execute_result"
    }
   ],
   "source": [
    "#double indexing to access the data from inside the list of roles\n",
    "dict1['roles'][1]"
   ]
  },
  {
   "cell_type": "code",
   "execution_count": 35,
   "id": "d8f750d1-9e9f-496f-9cdd-ed42f490682f",
   "metadata": {},
   "outputs": [
    {
     "data": {
      "text/plain": [
       "'Bachelors'"
      ]
     },
     "execution_count": 35,
     "metadata": {},
     "output_type": "execute_result"
    }
   ],
   "source": [
    "#double indexing to access the data from inside the inner dictionary\n",
    "dict1['education'][2]"
   ]
  },
  {
   "cell_type": "markdown",
   "id": "fd28a9c2-6b1f-41a1-a8c2-1c00e68867dd",
   "metadata": {},
   "source": [
    "#### Inserting values into a Dictionary"
   ]
  },
  {
   "cell_type": "code",
   "execution_count": 36,
   "id": "574fa6b2-e9ce-4bdf-bdf4-90daceeab54a",
   "metadata": {},
   "outputs": [],
   "source": [
    "#to insert values in to a dictionary, we just need to provide new key and new value like dict[key] = value\n",
    "dict1['new_key'] = 45"
   ]
  },
  {
   "cell_type": "code",
   "execution_count": 37,
   "id": "0645e856-a3ac-4eb8-b91d-133bd6c8210f",
   "metadata": {},
   "outputs": [
    {
     "data": {
      "text/plain": [
       "{'name': 'Shikhar',\n",
       " 'place': 'India',\n",
       " 'roles': ['Data Scientist', 'Data Science Trainer'],\n",
       " 'hobbies': ('Fitness', 'Football'),\n",
       " 'education': {1: 'Masters', 2: 'Bachelors'},\n",
       " 'new_key': 45}"
      ]
     },
     "execution_count": 37,
     "metadata": {},
     "output_type": "execute_result"
    }
   ],
   "source": [
    "dict1"
   ]
  },
  {
   "cell_type": "code",
   "execution_count": 38,
   "id": "6bfaedc4-967c-4d06-94ee-c9f41af05ceb",
   "metadata": {},
   "outputs": [],
   "source": [
    "dict1.update({'new_key2': (12, 43)})"
   ]
  },
  {
   "cell_type": "code",
   "execution_count": 39,
   "id": "07592994-e7e8-497e-9d14-26e3d097b09b",
   "metadata": {},
   "outputs": [
    {
     "data": {
      "text/plain": [
       "{'name': 'Shikhar',\n",
       " 'place': 'India',\n",
       " 'roles': ['Data Scientist', 'Data Science Trainer'],\n",
       " 'hobbies': ('Fitness', 'Football'),\n",
       " 'education': {1: 'Masters', 2: 'Bachelors'},\n",
       " 'new_key': 45,\n",
       " 'new_key2': (12, 43)}"
      ]
     },
     "execution_count": 39,
     "metadata": {},
     "output_type": "execute_result"
    }
   ],
   "source": [
    "dict1"
   ]
  },
  {
   "cell_type": "markdown",
   "id": "b1dcd119-0ee8-4027-80fa-ed8afa81d78d",
   "metadata": {},
   "source": [
    "#### Deleting values from a dictionary"
   ]
  },
  {
   "cell_type": "code",
   "execution_count": 40,
   "id": "e32ad085-79e5-4073-9e17-2258b7d7c61b",
   "metadata": {},
   "outputs": [
    {
     "data": {
      "text/plain": [
       "('new_key2', (12, 43))"
      ]
     },
     "execution_count": 40,
     "metadata": {},
     "output_type": "execute_result"
    }
   ],
   "source": [
    "#remove the last inserted pair from the dictionary\n",
    "dict1.popitem()"
   ]
  },
  {
   "cell_type": "code",
   "execution_count": 42,
   "id": "126a2141-7385-4a32-8938-315dd73c8047",
   "metadata": {},
   "outputs": [
    {
     "data": {
      "text/plain": [
       "45"
      ]
     },
     "execution_count": 42,
     "metadata": {},
     "output_type": "execute_result"
    }
   ],
   "source": [
    "#remove a particular pair using its key\n",
    "dict1.pop('new_key')"
   ]
  },
  {
   "cell_type": "code",
   "execution_count": 43,
   "id": "c9952430-5a07-4fdb-8548-d104c29333e1",
   "metadata": {},
   "outputs": [
    {
     "data": {
      "text/plain": [
       "{'name': 'Shikhar',\n",
       " 'place': 'India',\n",
       " 'roles': ['Data Scientist', 'Data Science Trainer'],\n",
       " 'hobbies': ('Fitness', 'Football'),\n",
       " 'education': {1: 'Masters', 2: 'Bachelors'}}"
      ]
     },
     "execution_count": 43,
     "metadata": {},
     "output_type": "execute_result"
    }
   ],
   "source": [
    "dict1"
   ]
  },
  {
   "cell_type": "code",
   "execution_count": 44,
   "id": "d0faa08e-6baf-411a-bacb-f27dd344bd56",
   "metadata": {},
   "outputs": [],
   "source": [
    "#alternate method of deleting a pair using del keyword\n",
    "del dict1['place']"
   ]
  },
  {
   "cell_type": "markdown",
   "id": "74d615d9-2a36-44a0-ac51-82781c8e9346",
   "metadata": {},
   "source": [
    "#### Some Dictionary Methods"
   ]
  },
  {
   "cell_type": "code",
   "execution_count": 45,
   "id": "b683a94b-9efd-488d-98c6-c9e43230f668",
   "metadata": {},
   "outputs": [],
   "source": [
    "#returns a copy of the dictionary dict1\n",
    "dict1_copy = dict1.copy()"
   ]
  },
  {
   "cell_type": "code",
   "execution_count": 46,
   "id": "b6bbc840-843a-4fbe-95cb-a0d96e6bc2a3",
   "metadata": {},
   "outputs": [
    {
     "data": {
      "text/plain": [
       "dict_keys(['name', 'roles', 'hobbies', 'education'])"
      ]
     },
     "execution_count": 46,
     "metadata": {},
     "output_type": "execute_result"
    }
   ],
   "source": [
    "#returns a list of keys of dictionary\n",
    "dict1.keys()"
   ]
  },
  {
   "cell_type": "code",
   "execution_count": 47,
   "id": "8223ec7e-8d5d-421c-beb8-7e09de5156e3",
   "metadata": {},
   "outputs": [
    {
     "data": {
      "text/plain": [
       "dict_values(['Shikhar', ['Data Scientist', 'Data Science Trainer'], ('Fitness', 'Football'), {1: 'Masters', 2: 'Bachelors'}])"
      ]
     },
     "execution_count": 47,
     "metadata": {},
     "output_type": "execute_result"
    }
   ],
   "source": [
    "#returns a list of values of dictionary\n",
    "dict1.values()"
   ]
  },
  {
   "cell_type": "code",
   "execution_count": 48,
   "id": "53c789e8-2893-4829-8bb7-1fa4ea45270c",
   "metadata": {},
   "outputs": [
    {
     "data": {
      "text/plain": [
       "dict_items([('name', 'Shikhar'), ('roles', ['Data Scientist', 'Data Science Trainer']), ('hobbies', ('Fitness', 'Football')), ('education', {1: 'Masters', 2: 'Bachelors'})])"
      ]
     },
     "execution_count": 48,
     "metadata": {},
     "output_type": "execute_result"
    }
   ],
   "source": [
    "#Returns a list containing a tuple for each key value pair\n",
    "dict1.items()"
   ]
  },
  {
   "cell_type": "code",
   "execution_count": null,
   "id": "096df15b-a380-4077-88c7-d0b2230c419d",
   "metadata": {},
   "outputs": [],
   "source": []
  }
 ],
 "metadata": {
  "kernelspec": {
   "display_name": "Python 3 (ipykernel)",
   "language": "python",
   "name": "python3"
  },
  "language_info": {
   "codemirror_mode": {
    "name": "ipython",
    "version": 3
   },
   "file_extension": ".py",
   "mimetype": "text/x-python",
   "name": "python",
   "nbconvert_exporter": "python",
   "pygments_lexer": "ipython3",
   "version": "3.11.7"
  }
 },
 "nbformat": 4,
 "nbformat_minor": 5
}
