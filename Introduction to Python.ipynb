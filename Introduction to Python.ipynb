{
 "cells": [
  {
   "cell_type": "markdown",
   "metadata": {},
   "source": [
    "# <font color = 'darkgreen'>What is Python?\n",
    "- Python is an interpreted, high-level, multipurpose programming language. Python is one of the most popular languages. It is being regarded as the language of Data Science these days."
   ]
  },
  {
   "cell_type": "markdown",
   "metadata": {},
   "source": [
    "### <font color = 'maroon'>So what makes Python popular? :\n",
    "\n",
    "- **General-purpose language:** It is a general-purpose language and is lightweight and fast. Therefore, it can be used for many different purposes.\n",
    "\n",
    "- **Support for Data Science:** Python was not built for Data Science but its general-purpose nature and the support of the community in providing third-party tools like Numpy, Pandas, matplotlib, and Scipy has made it the most popular in data science.\n",
    "\n",
    "- **Flat learning curve:** Python has a very simple and easy to learn syntax and programming requirements which make it a popular choice for people who are not programmers. It is known for its usability.\n",
    "\n",
    "- **Large active community:** Python has a very big active community of users. If someone faces an issue while working, there is a high probability that there will be solutions for it easily available on the Internet."
   ]
  },
  {
   "cell_type": "markdown",
   "metadata": {},
   "source": [
    "# <font color = 'dark-orange'>Literals and Variables\n",
    "\n",
    "### Literals\n",
    "A literal is nothing but a data types which conveys information. there are many kinds of literals in python where the four main datatypes are:\n",
    "- integral values: `int`\n",
    "- decimal values: `float`\n",
    "- true or false statements: `bool`\n",
    "- text data: `str`   \n",
    "Apart from these, there are many other datas type which we'll we looking at later"
   ]
  },
  {
   "cell_type": "code",
   "execution_count": null,
   "metadata": {},
   "outputs": [],
   "source": [
    "10\n",
    "\n",
    "20.5\n",
    "\n",
    "'Python'\n",
    "\n",
    "True/False"
   ]
  },
  {
   "cell_type": "markdown",
   "metadata": {},
   "source": [
    "### Variable\n",
    "Variables are nothing but place holders to store the literal values. Variables can be accessed by their names and some rules have to be followed while naming variables\n",
    "\n",
    "Naming conventions for variables:\n",
    "- A variable name can only contain alphabets, numbers and under score\n",
    "- A variable name can only start with an underscore or an alphabet\n",
    "- A variable name can't be the same as any keyword(keywords are sequences of characters which have some special meaning to them)\n",
    "- A variable name can't have any spaces between the various parts of the variable. If we want to distinguish them, we can use and underscore or make the variable name CamelCase\n",
    "> variable_name\n",
    "> VariableName\n",
    "- It is suggested that we make our variable names as descriptive as possible\n",
    "> a = 21\n",
    "> age = 21\n",
    "\n",
    "Storing a literal into a variable is called as assigning the variable with a literal and is accomplished using the equality(`=`) symbol"
   ]
  },
  {
   "cell_type": "code",
   "execution_count": null,
   "metadata": {},
   "outputs": [],
   "source": [
    "num = 10"
   ]
  },
  {
   "cell_type": "code",
   "execution_count": null,
   "metadata": {},
   "outputs": [],
   "source": [
    "name = 'Shikhar'"
   ]
  },
  {
   "cell_type": "code",
   "execution_count": 1,
   "metadata": {},
   "outputs": [],
   "source": [
    "num1 = 10"
   ]
  },
  {
   "cell_type": "code",
   "execution_count": 2,
   "metadata": {},
   "outputs": [],
   "source": [
    "num_2 = 20"
   ]
  },
  {
   "cell_type": "code",
   "execution_count": 3,
   "metadata": {},
   "outputs": [],
   "source": [
    "_num3 = 30"
   ]
  },
  {
   "cell_type": "code",
   "execution_count": 4,
   "metadata": {},
   "outputs": [
    {
     "ename": "SyntaxError",
     "evalue": "invalid syntax (<ipython-input-4-ea4f02c1c348>, line 1)",
     "output_type": "error",
     "traceback": [
      "\u001b[1;36m  File \u001b[1;32m\"<ipython-input-4-ea4f02c1c348>\"\u001b[1;36m, line \u001b[1;32m1\u001b[0m\n\u001b[1;33m    4num = 40\u001b[0m\n\u001b[1;37m     ^\u001b[0m\n\u001b[1;31mSyntaxError\u001b[0m\u001b[1;31m:\u001b[0m invalid syntax\n"
     ]
    }
   ],
   "source": [
    "4num = 40"
   ]
  },
  {
   "cell_type": "code",
   "execution_count": 6,
   "metadata": {},
   "outputs": [
    {
     "ename": "SyntaxError",
     "evalue": "invalid syntax (<ipython-input-6-3cea8083ad91>, line 1)",
     "output_type": "error",
     "traceback": [
      "\u001b[1;36m  File \u001b[1;32m\"<ipython-input-6-3cea8083ad91>\"\u001b[1;36m, line \u001b[1;32m1\u001b[0m\n\u001b[1;33m    for = 50\u001b[0m\n\u001b[1;37m        ^\u001b[0m\n\u001b[1;31mSyntaxError\u001b[0m\u001b[1;31m:\u001b[0m invalid syntax\n"
     ]
    }
   ],
   "source": [
    "for = 50"
   ]
  },
  {
   "cell_type": "code",
   "execution_count": 9,
   "metadata": {},
   "outputs": [],
   "source": [
    "first_name = 'Shikhar'"
   ]
  },
  {
   "cell_type": "code",
   "execution_count": null,
   "metadata": {},
   "outputs": [],
   "source": [
    "firstName = 'Virat'"
   ]
  },
  {
   "cell_type": "code",
   "execution_count": null,
   "metadata": {},
   "outputs": [],
   "source": [
    "FirstName = 'Rohit'"
   ]
  },
  {
   "cell_type": "markdown",
   "metadata": {},
   "source": [
    "### Some of the rules in python\n",
    "**Indentation matters in Python.** Note that the statements are entered from the first column in the new line. The Python interpreter will report an error if the program is typed as follows:\n",
    "\n",
    "\tprint(\"Welcome to Python\")\n",
    "print(\"Python is fun\")\n",
    "\n",
    "**Don’t put any punctuation at the end of a statement**. For example, the Python interpreter will report errors for the following code:\n",
    "\n",
    "print(\"Welcome to Python\").\n",
    "print(\"Python is fun\"),\n",
    "\n",
    "**Python programs are case sensitive.** It would be wrong, for example, to replace print in the program with Print."
   ]
  },
  {
   "cell_type": "code",
   "execution_count": null,
   "metadata": {},
   "outputs": [],
   "source": [
    "Print('Hello')"
   ]
  },
  {
   "cell_type": "markdown",
   "metadata": {},
   "source": [
    "# <font color = 'dark-orange'>Writing comments in python\n",
    "Comment is not a python statement and thus is ignored by python interpreter. But, it is plain text that documents what the program is and how it is constructed.\n",
    "\n",
    "It is always good to write a comment that describes purpose of each statement included in a program.\n",
    "\n",
    "It increases readability of the program.\n",
    "\n",
    "In Python, one can write comments as:\n",
    "1. Single line comment starting with a pound (#) sign\n",
    "2. Paragraph comment that starts and ends with three consecutive single quotes (''') or three consecutive double quotes (\"\"\")."
   ]
  },
  {
   "cell_type": "code",
   "execution_count": 12,
   "metadata": {},
   "outputs": [],
   "source": [
    "#Declared a variable first_name\n",
    "#\n",
    "#\n",
    "first_name = 'Shikhar'"
   ]
  },
  {
   "cell_type": "markdown",
   "metadata": {},
   "source": []
  },
  {
   "cell_type": "markdown",
   "metadata": {},
   "source": [
    "# <font color = 'dark-orange'>Python Keywords\n",
    "**Keywords are the pre-defined or built-in words whose meaning is already known to python interpreter.**\n",
    "\n",
    "Keywords are the reserved words in python\n",
    "\n",
    "We can't use a keyword as variable name, function name or any other identifier\n",
    "\n",
    "All the keywords except True, False and None are in lowercase and they must be written as is. "
   ]
  },
  {
   "cell_type": "code",
   "execution_count": 22,
   "metadata": {},
   "outputs": [
    {
     "name": "stdout",
     "output_type": "stream",
     "text": [
      "['False', 'None', 'True', 'and', 'as', 'assert', 'async', 'await', 'break', 'class', 'continue', 'def', 'del', 'elif', 'else', 'except', 'finally', 'for', 'from', 'global', 'if', 'import', 'in', 'is', 'lambda', 'nonlocal', 'not', 'or', 'pass', 'raise', 'return', 'try', 'while', 'with', 'yield']\n",
      "Total number of keywords  35\n"
     ]
    }
   ],
   "source": [
    "import keyword\n",
    "\n",
    "print(keyword.kwlist)\n",
    "\n",
    "#print(keyword.kwlist)\n",
    "print(\"Total number of keywords \", len(keyword.kwlist))"
   ]
  },
  {
   "cell_type": "markdown",
   "metadata": {},
   "source": [
    "# <font color = 'dark-orange'>Identifiers\n",
    "**Identifiers are the user-defined names given to various program elements such as variable, function, class...etc.**\n",
    "\n",
    "**Rules for Writing Identifiers:**\n",
    "\n",
    "1. Identifiers can be a combination of letters in lowercase (a to z) or uppercase (A to Z) or digits (0 to 9) or an underscore (_).\n",
    "\n",
    "2. An identifier cannot start with a digit. 1variable is invalid, but variable1 is perfectly fine.\n",
    "\n",
    "3. Keywords cannot be used as identifiers.\n",
    "\n",
    "4. No special symbol can be used\n",
    "\n",
    "5. An identifier can be of any length.\n",
    "\n",
    "**Note-1**: \n",
    "* Python is a case-sensitive language. This means, the identifiers amount, AMOUNT, and aMouNT are not the same. \n",
    "* Always name identifiers that make sense. For example, num is meaningful compared to x\n",
    "* Multiple words can be separated using an underscore. Ex.,compound_interest\n",
    "* We can also use camel-case style of writing, i.e., capitalize every first letter of the word except the initial word without any spaces. For example: camelCaseExample"
   ]
  },
  {
   "cell_type": "code",
   "execution_count": 13,
   "metadata": {},
   "outputs": [],
   "source": [
    "num1 = 10"
   ]
  },
  {
   "cell_type": "code",
   "execution_count": 14,
   "metadata": {},
   "outputs": [],
   "source": [
    "Num1 = 20"
   ]
  },
  {
   "cell_type": "code",
   "execution_count": 17,
   "metadata": {},
   "outputs": [
    {
     "ename": "NameError",
     "evalue": "name 'NUM1' is not defined",
     "output_type": "error",
     "traceback": [
      "\u001b[1;31m---------------------------------------------------------------------------\u001b[0m",
      "\u001b[1;31mNameError\u001b[0m                                 Traceback (most recent call last)",
      "\u001b[1;32m<ipython-input-17-9290fe9d3b62>\u001b[0m in \u001b[0;36m<module>\u001b[1;34m\u001b[0m\n\u001b[1;32m----> 1\u001b[1;33m \u001b[0mNUM1\u001b[0m\u001b[1;33m\u001b[0m\u001b[1;33m\u001b[0m\u001b[0m\n\u001b[0m",
      "\u001b[1;31mNameError\u001b[0m: name 'NUM1' is not defined"
     ]
    }
   ],
   "source": [
    "NUM1"
   ]
  },
  {
   "cell_type": "markdown",
   "metadata": {},
   "source": [
    "### Note: 2.\n",
    "Python is dynamically typed language. i.e., a variable can hold different types of literals at different times. This is not possible with static-typed languages like C, C++ and Java."
   ]
  },
  {
   "cell_type": "code",
   "execution_count": 22,
   "metadata": {},
   "outputs": [],
   "source": [
    "num = 10\n",
    "num = 20\n",
    "num = 'Python'"
   ]
  },
  {
   "cell_type": "code",
   "execution_count": 23,
   "metadata": {},
   "outputs": [
    {
     "data": {
      "text/plain": [
       "'Python'"
      ]
     },
     "execution_count": 23,
     "metadata": {},
     "output_type": "execute_result"
    }
   ],
   "source": [
    "num"
   ]
  },
  {
   "cell_type": "markdown",
   "metadata": {},
   "source": [
    "### Note: 3.\n",
    "In Python, multiple variables are assigned with corresponding values within single assignment statement."
   ]
  },
  {
   "cell_type": "code",
   "execution_count": null,
   "metadata": {},
   "outputs": [],
   "source": [
    "num1 = 10\n",
    "num2 = 20\n",
    "num3 = 30"
   ]
  },
  {
   "cell_type": "code",
   "execution_count": null,
   "metadata": {},
   "outputs": [],
   "source": [
    "#The code in the above can also be written like this\n",
    "num1, num2, num3 = 10, 20, 30"
   ]
  },
  {
   "cell_type": "code",
   "execution_count": null,
   "metadata": {},
   "outputs": [],
   "source": [
    "val1 = 40\n",
    "val2 = 40\n",
    "val3 = 40"
   ]
  },
  {
   "cell_type": "code",
   "execution_count": 37,
   "metadata": {},
   "outputs": [],
   "source": [
    "#The code in the above cell can also be written like this\n",
    "val1 = val2 = val3 = 40"
   ]
  },
  {
   "cell_type": "code",
   "execution_count": 38,
   "metadata": {},
   "outputs": [
    {
     "data": {
      "text/plain": [
       "140706048584720"
      ]
     },
     "execution_count": 38,
     "metadata": {},
     "output_type": "execute_result"
    }
   ],
   "source": [
    "id(val1)"
   ]
  },
  {
   "cell_type": "code",
   "execution_count": 39,
   "metadata": {},
   "outputs": [
    {
     "data": {
      "text/plain": [
       "140706048584720"
      ]
     },
     "execution_count": 39,
     "metadata": {},
     "output_type": "execute_result"
    }
   ],
   "source": [
    "id(val2)"
   ]
  },
  {
   "cell_type": "code",
   "execution_count": 40,
   "metadata": {},
   "outputs": [
    {
     "data": {
      "text/plain": [
       "140706048584720"
      ]
     },
     "execution_count": 40,
     "metadata": {},
     "output_type": "execute_result"
    }
   ],
   "source": [
    "id(val3)"
   ]
  },
  {
   "cell_type": "markdown",
   "metadata": {},
   "source": [
    "### Note: 4. Type Conversion\n",
    "You can convert one variable type to another type using type(value)"
   ]
  },
  {
   "cell_type": "code",
   "execution_count": 31,
   "metadata": {},
   "outputs": [
    {
     "data": {
      "text/plain": [
       "10"
      ]
     },
     "execution_count": 31,
     "metadata": {},
     "output_type": "execute_result"
    }
   ],
   "source": [
    "num1"
   ]
  },
  {
   "cell_type": "code",
   "execution_count": 32,
   "metadata": {},
   "outputs": [
    {
     "data": {
      "text/plain": [
       "int"
      ]
     },
     "execution_count": 32,
     "metadata": {},
     "output_type": "execute_result"
    }
   ],
   "source": [
    "type(num1)"
   ]
  },
  {
   "cell_type": "code",
   "execution_count": 35,
   "metadata": {},
   "outputs": [],
   "source": [
    "num1 = float(num1)"
   ]
  },
  {
   "cell_type": "code",
   "execution_count": 36,
   "metadata": {},
   "outputs": [
    {
     "data": {
      "text/plain": [
       "10.0"
      ]
     },
     "execution_count": 36,
     "metadata": {},
     "output_type": "execute_result"
    }
   ],
   "source": [
    "num1"
   ]
  },
  {
   "cell_type": "code",
   "execution_count": null,
   "metadata": {},
   "outputs": [],
   "source": []
  },
  {
   "cell_type": "code",
   "execution_count": 27,
   "metadata": {},
   "outputs": [],
   "source": [
    "val1 = 30.3"
   ]
  },
  {
   "cell_type": "code",
   "execution_count": 28,
   "metadata": {},
   "outputs": [
    {
     "data": {
      "text/plain": [
       "30"
      ]
     },
     "execution_count": 28,
     "metadata": {},
     "output_type": "execute_result"
    }
   ],
   "source": [
    "int(val1)"
   ]
  },
  {
   "cell_type": "code",
   "execution_count": 29,
   "metadata": {},
   "outputs": [
    {
     "data": {
      "text/plain": [
       "'10'"
      ]
     },
     "execution_count": 29,
     "metadata": {},
     "output_type": "execute_result"
    }
   ],
   "source": [
    "str(num1)"
   ]
  },
  {
   "cell_type": "code",
   "execution_count": 30,
   "metadata": {},
   "outputs": [
    {
     "ename": "ValueError",
     "evalue": "invalid literal for int() with base 10: 'Python'",
     "output_type": "error",
     "traceback": [
      "\u001b[1;31m---------------------------------------------------------------------------\u001b[0m",
      "\u001b[1;31mValueError\u001b[0m                                Traceback (most recent call last)",
      "\u001b[1;32m<ipython-input-30-6d5e674a3161>\u001b[0m in \u001b[0;36m<module>\u001b[1;34m\u001b[0m\n\u001b[1;32m----> 1\u001b[1;33m \u001b[0mint\u001b[0m\u001b[1;33m(\u001b[0m\u001b[1;34m'Python'\u001b[0m\u001b[1;33m)\u001b[0m\u001b[1;33m\u001b[0m\u001b[1;33m\u001b[0m\u001b[0m\n\u001b[0m",
      "\u001b[1;31mValueError\u001b[0m: invalid literal for int() with base 10: 'Python'"
     ]
    }
   ],
   "source": [
    "int('Python')"
   ]
  },
  {
   "cell_type": "code",
   "execution_count": null,
   "metadata": {},
   "outputs": [],
   "source": []
  }
 ],
 "metadata": {
  "kernelspec": {
   "display_name": "Python 3 (ipykernel)",
   "language": "python",
   "name": "python3"
  },
  "language_info": {
   "codemirror_mode": {
    "name": "ipython",
    "version": 3
   },
   "file_extension": ".py",
   "mimetype": "text/x-python",
   "name": "python",
   "nbconvert_exporter": "python",
   "pygments_lexer": "ipython3",
   "version": "3.11.7"
  }
 },
 "nbformat": 4,
 "nbformat_minor": 4
}
