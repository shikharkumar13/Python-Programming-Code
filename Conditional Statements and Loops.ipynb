{
 "cells": [
  {
   "cell_type": "code",
   "execution_count": 1,
   "id": "72721443",
   "metadata": {},
   "outputs": [
    {
     "name": "stdout",
     "output_type": "stream",
     "text": [
      "Enter your marks: 67\n",
      "Hurray! You Passed.\n",
      "Sorry! You Failed\n"
     ]
    }
   ],
   "source": [
    "marks = int(input('Enter your marks: '))\n",
    "\n",
    "print('Hurray! You Passed.')\n",
    "print('Sorry! You Failed')"
   ]
  },
  {
   "cell_type": "markdown",
   "id": "0d3cc985",
   "metadata": {},
   "source": [
    "### `if-else` statements"
   ]
  },
  {
   "cell_type": "code",
   "execution_count": 8,
   "id": "f68be562",
   "metadata": {},
   "outputs": [
    {
     "name": "stdout",
     "output_type": "stream",
     "text": [
      "Enter the marks: 67\n",
      "Hurray! You Passed.\n"
     ]
    }
   ],
   "source": [
    "marks = int(input('Enter the marks: '))\n",
    "\n",
    "if marks >= 35:\n",
    "    print('Hurray! You Passed.')\n",
    "else:\n",
    "    print('Sorry! You Failed')"
   ]
  },
  {
   "cell_type": "code",
   "execution_count": 7,
   "id": "57d6f6d2",
   "metadata": {},
   "outputs": [
    {
     "name": "stdout",
     "output_type": "stream",
     "text": [
      "Enter the marks: 210\n",
      "Sorry! You Failed\n"
     ]
    }
   ],
   "source": [
    "marks = int(input('Enter the marks: '))\n",
    "\n",
    "if marks >= 35 and marks <= 100:\n",
    "    print('Hurray! You Passed.')\n",
    "else:\n",
    "    print('Sorry! You Failed')"
   ]
  },
  {
   "cell_type": "markdown",
   "id": "0a135266",
   "metadata": {},
   "source": [
    "### Nested If-else"
   ]
  },
  {
   "cell_type": "code",
   "execution_count": 15,
   "id": "1392ac7b",
   "metadata": {},
   "outputs": [
    {
     "name": "stdout",
     "output_type": "stream",
     "text": [
      "Enter the marks: 0\n",
      "Sorry! You Failed\n"
     ]
    }
   ],
   "source": [
    "marks = int(input('Enter the marks: '))\n",
    "\n",
    "if marks >=0 and marks <= 100:\n",
    "    if marks >= 35 and marks <= 100:\n",
    "        print('Hurray! You Passed.')\n",
    "    else:\n",
    "        print('Sorry! You Failed')\n",
    "else:\n",
    "    print('Invalid Input. Please enter marks between 0 and 100.')"
   ]
  },
  {
   "cell_type": "markdown",
   "id": "f00708c7",
   "metadata": {},
   "source": [
    "### if-elif-else statement"
   ]
  },
  {
   "cell_type": "code",
   "execution_count": 18,
   "id": "1df9867b",
   "metadata": {},
   "outputs": [
    {
     "name": "stdout",
     "output_type": "stream",
     "text": [
      "Zero\n"
     ]
    }
   ],
   "source": [
    "number = 0\n",
    "\n",
    "if number >= 0:\n",
    "    if number == 0:\n",
    "        print('Zero')\n",
    "    else:\n",
    "        print('Positive')\n",
    "else:\n",
    "    print('Negative')"
   ]
  },
  {
   "cell_type": "markdown",
   "id": "0bbf6c10-0941-4c25-9ede-887bcd88d9a6",
   "metadata": {},
   "source": [
    "##### The above nested if else statements can be written with if-elif-else statements to make it look crisp"
   ]
  },
  {
   "cell_type": "code",
   "execution_count": 20,
   "id": "2226c25c",
   "metadata": {},
   "outputs": [
    {
     "name": "stdout",
     "output_type": "stream",
     "text": [
      "Negative\n"
     ]
    }
   ],
   "source": [
    "number = -10\n",
    "\n",
    "if number == 0:\n",
    "    print('Zero')\n",
    "elif number > 0:\n",
    "    print('Positive')\n",
    "else:\n",
    "    print('Negative')"
   ]
  },
  {
   "cell_type": "markdown",
   "id": "af2c12c2",
   "metadata": {},
   "source": [
    "marks < 35 - Failed\n",
    "\n",
    "marks >= 35 and marks <= 50: Grade C\n",
    "    \n",
    "marks >= 51 and marks <= 65 : Grade B\n",
    "\n",
    "marks >= 66 and marks <= 80 : Grade A\n",
    "\n",
    "marks >= 81 and marks <= 100 : Outstanding"
   ]
  },
  {
   "cell_type": "code",
   "execution_count": 28,
   "id": "1d8c8a6f",
   "metadata": {},
   "outputs": [
    {
     "name": "stdout",
     "output_type": "stream",
     "text": [
      "Enter the marks : -10\n",
      "Invalid Input.\n"
     ]
    }
   ],
   "source": [
    "marks = int(input('Enter the marks : '))\n",
    "\n",
    "if marks >=0 and marks <= 100:\n",
    "    if marks < 35:\n",
    "        print('Failed')\n",
    "    elif marks >= 35 and marks <= 50:\n",
    "        print('Grade C')\n",
    "    elif marks >= 51 and marks <= 65:\n",
    "        print('Grade B')\n",
    "    elif marks >= 66 and marks <= 80:\n",
    "        print('Grade A')\n",
    "    else:\n",
    "        print('Outstanding')\n",
    "else:\n",
    "    print('Invalid Input.')"
   ]
  },
  {
   "cell_type": "markdown",
   "id": "172fe929",
   "metadata": {},
   "source": [
    "## Loops\n",
    "\n",
    "- while loops\n",
    "- for loops"
   ]
  },
  {
   "cell_type": "code",
   "execution_count": 34,
   "id": "62e11920",
   "metadata": {},
   "outputs": [
    {
     "name": "stdout",
     "output_type": "stream",
     "text": [
      "Hello\n",
      "Hello\n",
      "Hello\n",
      "Hello\n",
      "Hello\n",
      "Hello\n",
      "Hello\n",
      "Hello\n",
      "Hello\n",
      "Hello\n"
     ]
    }
   ],
   "source": [
    "num1 = 10\n",
    "num2 = 20\n",
    "\n",
    "while num1 < num2:\n",
    "    print('Hello')\n",
    "    num2 -= 1"
   ]
  },
  {
   "cell_type": "code",
   "execution_count": 37,
   "id": "7470064c",
   "metadata": {},
   "outputs": [
    {
     "name": "stdout",
     "output_type": "stream",
     "text": [
      "Enter a number: 13\n",
      "Enter a number: 14\n",
      "Enter a number: 16\n",
      "Enter a number: 99\n",
      "Enter a number: 63\n"
     ]
    }
   ],
   "source": [
    "num1 = 10\n",
    "list1 = []\n",
    "\n",
    "while num1 < 15:\n",
    "    value = int(input('Enter a number: '))\n",
    "    list1.append(value)\n",
    "    num1 += 1"
   ]
  },
  {
   "cell_type": "code",
   "execution_count": 38,
   "id": "dbaf2223",
   "metadata": {},
   "outputs": [
    {
     "data": {
      "text/plain": [
       "[13, 14, 16, 99, 63]"
      ]
     },
     "execution_count": 38,
     "metadata": {},
     "output_type": "execute_result"
    }
   ],
   "source": [
    "list1"
   ]
  },
  {
   "cell_type": "markdown",
   "id": "14e97812",
   "metadata": {},
   "source": [
    "### for loops\n",
    "\n",
    "- for loop uses iterables(lists, tuples, sets, dictionaries, string, range keyword) to run the loop."
   ]
  },
  {
   "cell_type": "code",
   "execution_count": 1,
   "id": "9d61bc2a",
   "metadata": {},
   "outputs": [],
   "source": [
    "list1 = [1,2,3,4,5,6,7,8]"
   ]
  },
  {
   "cell_type": "code",
   "execution_count": 2,
   "id": "26a06c9c",
   "metadata": {},
   "outputs": [
    {
     "name": "stdout",
     "output_type": "stream",
     "text": [
      "Hello\n",
      "Hello\n",
      "Hello\n",
      "Hello\n",
      "Hello\n",
      "Hello\n",
      "Hello\n",
      "Hello\n"
     ]
    }
   ],
   "source": [
    "for value in list1:\n",
    "    print('Hello')"
   ]
  },
  {
   "cell_type": "code",
   "execution_count": 3,
   "id": "606a6324",
   "metadata": {},
   "outputs": [],
   "source": [
    "word = 'Python'"
   ]
  },
  {
   "cell_type": "code",
   "execution_count": 4,
   "id": "e6f39942",
   "metadata": {},
   "outputs": [
    {
     "name": "stdout",
     "output_type": "stream",
     "text": [
      "Hello\n",
      "Hello\n",
      "Hello\n",
      "Hello\n",
      "Hello\n",
      "Hello\n"
     ]
    }
   ],
   "source": [
    "for char in word:\n",
    "    print('Hello')"
   ]
  },
  {
   "cell_type": "markdown",
   "id": "0e04a2b3",
   "metadata": {},
   "source": [
    "#### range keyword"
   ]
  },
  {
   "cell_type": "code",
   "execution_count": 11,
   "id": "876b7143",
   "metadata": {},
   "outputs": [
    {
     "data": {
      "text/plain": [
       "[0, 1, 2, 3, 4, 5, 6, 7, 8, 9, 10, 11, 12, 13, 14]"
      ]
     },
     "execution_count": 11,
     "metadata": {},
     "output_type": "execute_result"
    }
   ],
   "source": [
    "list(range(15))"
   ]
  },
  {
   "cell_type": "code",
   "execution_count": 12,
   "id": "0ed76502",
   "metadata": {},
   "outputs": [
    {
     "data": {
      "text/plain": [
       "[1, 2, 3, 4, 5, 6, 7, 8, 9, 10, 11, 12, 13, 14, 15]"
      ]
     },
     "execution_count": 12,
     "metadata": {},
     "output_type": "execute_result"
    }
   ],
   "source": [
    "list(range(1, 16))  #(start, stop+1)"
   ]
  },
  {
   "cell_type": "code",
   "execution_count": 2,
   "id": "93bff88a",
   "metadata": {},
   "outputs": [
    {
     "data": {
      "text/plain": [
       "[1, 11, 21, 31, 41, 51, 61, 71, 81, 91]"
      ]
     },
     "execution_count": 2,
     "metadata": {},
     "output_type": "execute_result"
    }
   ],
   "source": [
    "list(range(1, 100, 10))"
   ]
  },
  {
   "cell_type": "code",
   "execution_count": 14,
   "id": "c03459f8",
   "metadata": {},
   "outputs": [],
   "source": [
    "numbers = list(range(1,21))"
   ]
  },
  {
   "cell_type": "code",
   "execution_count": 15,
   "id": "6a1a53e3",
   "metadata": {},
   "outputs": [
    {
     "data": {
      "text/plain": [
       "[1, 2, 3, 4, 5, 6, 7, 8, 9, 10, 11, 12, 13, 14, 15, 16, 17, 18, 19, 20]"
      ]
     },
     "execution_count": 15,
     "metadata": {},
     "output_type": "execute_result"
    }
   ],
   "source": [
    "numbers"
   ]
  },
  {
   "cell_type": "code",
   "execution_count": 16,
   "id": "e3a0d4f1",
   "metadata": {},
   "outputs": [],
   "source": [
    "odd = []\n",
    "\n",
    "for value in numbers:\n",
    "    if value % 2 != 0:\n",
    "        odd.append(value)"
   ]
  },
  {
   "cell_type": "code",
   "execution_count": 17,
   "id": "8a179c9c",
   "metadata": {},
   "outputs": [
    {
     "data": {
      "text/plain": [
       "[1, 3, 5, 7, 9, 11, 13, 15, 17, 19]"
      ]
     },
     "execution_count": 17,
     "metadata": {},
     "output_type": "execute_result"
    }
   ],
   "source": [
    "odd"
   ]
  },
  {
   "cell_type": "code",
   "execution_count": 18,
   "id": "135ad1b9",
   "metadata": {},
   "outputs": [],
   "source": [
    "even = []\n",
    "\n",
    "for value in numbers:\n",
    "    if value % 2 == 0:\n",
    "        even.append(value)"
   ]
  },
  {
   "cell_type": "code",
   "execution_count": 19,
   "id": "2247ca14",
   "metadata": {},
   "outputs": [
    {
     "data": {
      "text/plain": [
       "[2, 4, 6, 8, 10, 12, 14, 16, 18, 20]"
      ]
     },
     "execution_count": 19,
     "metadata": {},
     "output_type": "execute_result"
    }
   ],
   "source": [
    "even"
   ]
  },
  {
   "cell_type": "code",
   "execution_count": 20,
   "id": "1ea9b1d8",
   "metadata": {},
   "outputs": [],
   "source": [
    "odd_new = []\n",
    "even_new = []\n",
    "\n",
    "for value in numbers:\n",
    "    if value % 2 != 0:\n",
    "        odd_new.append(value)\n",
    "    else:\n",
    "        even_new.append(value)"
   ]
  },
  {
   "cell_type": "code",
   "execution_count": null,
   "id": "d41fabbc",
   "metadata": {},
   "outputs": [],
   "source": []
  },
  {
   "cell_type": "markdown",
   "id": "1379fbeb",
   "metadata": {},
   "source": [
    "### Control Flow Statements\n",
    "\n",
    "- break \n",
    "- continue"
   ]
  },
  {
   "cell_type": "markdown",
   "id": "639d52a2",
   "metadata": {},
   "source": [
    "#### continue(skip an iteration)"
   ]
  },
  {
   "cell_type": "code",
   "execution_count": 21,
   "id": "e9121fb8",
   "metadata": {},
   "outputs": [
    {
     "data": {
      "text/plain": [
       "[1, 2, 3, 4, 5, 6, 7, 8]"
      ]
     },
     "execution_count": 21,
     "metadata": {},
     "output_type": "execute_result"
    }
   ],
   "source": [
    "list1"
   ]
  },
  {
   "cell_type": "code",
   "execution_count": 22,
   "id": "2cb97908",
   "metadata": {},
   "outputs": [
    {
     "name": "stdout",
     "output_type": "stream",
     "text": [
      "1\n",
      "2\n",
      "3\n",
      "4\n",
      "6\n",
      "7\n",
      "8\n"
     ]
    }
   ],
   "source": [
    "for value in list1:\n",
    "    if value == 5:\n",
    "        continue\n",
    "    print(value)"
   ]
  },
  {
   "cell_type": "code",
   "execution_count": 23,
   "id": "61f81f35",
   "metadata": {},
   "outputs": [],
   "source": [
    "odd_list = []\n",
    "\n",
    "for value in list1:\n",
    "    if value % 2 == 0:\n",
    "        continue\n",
    "    odd_list.append(value)"
   ]
  },
  {
   "cell_type": "code",
   "execution_count": 24,
   "id": "9d2d057e",
   "metadata": {},
   "outputs": [
    {
     "data": {
      "text/plain": [
       "[1, 3, 5, 7]"
      ]
     },
     "execution_count": 24,
     "metadata": {},
     "output_type": "execute_result"
    }
   ],
   "source": [
    "odd_list"
   ]
  },
  {
   "cell_type": "markdown",
   "id": "9c248b1f",
   "metadata": {},
   "source": [
    "#### break (stop the iteration)"
   ]
  },
  {
   "cell_type": "code",
   "execution_count": 25,
   "id": "e468f3ff",
   "metadata": {},
   "outputs": [
    {
     "name": "stdout",
     "output_type": "stream",
     "text": [
      "1\n",
      "2\n",
      "3\n",
      "4\n"
     ]
    }
   ],
   "source": [
    "for value in list1:\n",
    "    if value == 5:\n",
    "        break\n",
    "    print(value)"
   ]
  },
  {
   "cell_type": "markdown",
   "id": "c3582c6e",
   "metadata": {},
   "source": [
    "### List Comprehension"
   ]
  },
  {
   "cell_type": "code",
   "execution_count": 26,
   "id": "a26c6dce",
   "metadata": {},
   "outputs": [
    {
     "data": {
      "text/plain": [
       "[1, 2, 3, 4, 5, 6, 7, 8]"
      ]
     },
     "execution_count": 26,
     "metadata": {},
     "output_type": "execute_result"
    }
   ],
   "source": [
    "list1"
   ]
  },
  {
   "cell_type": "code",
   "execution_count": 27,
   "id": "9556a5a3",
   "metadata": {},
   "outputs": [],
   "source": [
    "squared = []\n",
    "\n",
    "for value in list1:\n",
    "    squared.append(value ** 2)"
   ]
  },
  {
   "cell_type": "code",
   "execution_count": 28,
   "id": "5e26ea80",
   "metadata": {},
   "outputs": [
    {
     "data": {
      "text/plain": [
       "[1, 4, 9, 16, 25, 36, 49, 64]"
      ]
     },
     "execution_count": 28,
     "metadata": {},
     "output_type": "execute_result"
    }
   ],
   "source": [
    "squared"
   ]
  },
  {
   "cell_type": "markdown",
   "id": "16fab93d-e89c-4db1-b48f-68366597cc71",
   "metadata": {},
   "source": [
    "##### The above code can be written in a short and simple way using list comprehension as shown below"
   ]
  },
  {
   "cell_type": "code",
   "execution_count": 29,
   "id": "b1362c8e",
   "metadata": {},
   "outputs": [],
   "source": [
    "squared_new = [value**2 for value in list1]"
   ]
  },
  {
   "cell_type": "code",
   "execution_count": 30,
   "id": "a05ffbfb",
   "metadata": {},
   "outputs": [
    {
     "data": {
      "text/plain": [
       "[1, 4, 9, 16, 25, 36, 49, 64]"
      ]
     },
     "execution_count": 30,
     "metadata": {},
     "output_type": "execute_result"
    }
   ],
   "source": [
    "squared_new"
   ]
  },
  {
   "cell_type": "markdown",
   "id": "131b21e8-fc46-45f2-bd50-d60157cc6cf8",
   "metadata": {},
   "source": [
    "##### Another example of list comprehension"
   ]
  },
  {
   "cell_type": "code",
   "execution_count": 37,
   "id": "c2df3bab",
   "metadata": {},
   "outputs": [],
   "source": [
    "new_list = [{value : value**2} for value in list1]"
   ]
  },
  {
   "cell_type": "code",
   "execution_count": 38,
   "id": "006eadb4",
   "metadata": {},
   "outputs": [
    {
     "data": {
      "text/plain": [
       "[{1: 1}, {2: 4}, {3: 9}, {4: 16}, {5: 25}, {6: 36}, {7: 49}, {8: 64}]"
      ]
     },
     "execution_count": 38,
     "metadata": {},
     "output_type": "execute_result"
    }
   ],
   "source": [
    "new_list"
   ]
  },
  {
   "cell_type": "code",
   "execution_count": null,
   "id": "c5500f5e",
   "metadata": {},
   "outputs": [],
   "source": [
    "##### Odd numbers list code with and without list comprehension"
   ]
  },
  {
   "cell_type": "code",
   "execution_count": 39,
   "id": "19a246d5",
   "metadata": {},
   "outputs": [
    {
     "data": {
      "text/plain": [
       "[1, 2, 3, 4, 5, 6, 7, 8, 9, 10, 11, 12, 13, 14, 15, 16, 17, 18, 19, 20]"
      ]
     },
     "execution_count": 39,
     "metadata": {},
     "output_type": "execute_result"
    }
   ],
   "source": [
    "numbers"
   ]
  },
  {
   "cell_type": "code",
   "execution_count": null,
   "id": "51a32cdd",
   "metadata": {},
   "outputs": [],
   "source": [
    "odd = []\n",
    "\n",
    "for value in numbers:\n",
    "    if value % 2 != 0:\n",
    "        odd.append(value)"
   ]
  },
  {
   "cell_type": "code",
   "execution_count": 40,
   "id": "1472db5b",
   "metadata": {},
   "outputs": [],
   "source": [
    "new_odd = [value for value in numbers if value % 2 != 0]"
   ]
  },
  {
   "cell_type": "code",
   "execution_count": 41,
   "id": "7ea2f607",
   "metadata": {},
   "outputs": [
    {
     "data": {
      "text/plain": [
       "[1, 3, 5, 7, 9, 11, 13, 15, 17, 19]"
      ]
     },
     "execution_count": 41,
     "metadata": {},
     "output_type": "execute_result"
    }
   ],
   "source": [
    "new_odd"
   ]
  },
  {
   "cell_type": "code",
   "execution_count": null,
   "id": "bdd64382",
   "metadata": {},
   "outputs": [],
   "source": []
  },
  {
   "cell_type": "markdown",
   "id": "c6fdf8df",
   "metadata": {},
   "source": [
    "**Tasks to be performed**\n",
    "\n",
    "1. Create a small database which has some username and passwords.\n",
    "2. Ask the user for username and password. If those match with our database, then print Hello {username}.\n",
    "3. If the username and password doesnot match with our database, then we ask them whether they want tot be added to the database.\n",
    "4. If their response is Yes, then add them to the database, otherwise print a Good Bye message to them.\n",
    "5. Show the updated Database."
   ]
  },
  {
   "cell_type": "code",
   "execution_count": 42,
   "id": "3487bd1c",
   "metadata": {},
   "outputs": [],
   "source": [
    "database = {'virat': 3345, 'sharan': 6600, 'vipul':9054, 'krishna': 7732, 'chandan': 1100}"
   ]
  },
  {
   "cell_type": "code",
   "execution_count": 56,
   "id": "9de974ed",
   "metadata": {},
   "outputs": [
    {
     "name": "stdout",
     "output_type": "stream",
     "text": [
      "Enter your username: virat\n",
      "Enter your password: 9000\n",
      "Incorrect Password. Please try again.\n",
      "{'virat': 3345, 'sharan': 6600, 'vipul': 9054, 'krishna': 7732, 'chandan': 1100, 'sachin': 7765, 'neha': 6655}\n"
     ]
    }
   ],
   "source": [
    "username = input('Enter your username: ').lower()\n",
    "\n",
    "if username in database.keys():\n",
    "    password = int(input('Enter your password: '))\n",
    "    if database[username] == password:\n",
    "        print(f'Hello {username}')\n",
    "    else:\n",
    "        print('Incorrect Password. Please try again.')\n",
    "else:\n",
    "    print('It seems that either your username is incorrect or you are not in our database.')\n",
    "    response = input('Do you want to be added to the database? (Yes/No): ').lower()\n",
    "    \n",
    "    if response in ['yes', 'y']:\n",
    "        password = int(input('Enter your password: '))\n",
    "        database[username] = password\n",
    "    else:\n",
    "        print('Thank You for Visiting.')\n",
    "\n",
    "print(database)"
   ]
  }
 ],
 "metadata": {
  "kernelspec": {
   "display_name": "Python 3 (ipykernel)",
   "language": "python",
   "name": "python3"
  },
  "language_info": {
   "codemirror_mode": {
    "name": "ipython",
    "version": 3
   },
   "file_extension": ".py",
   "mimetype": "text/x-python",
   "name": "python",
   "nbconvert_exporter": "python",
   "pygments_lexer": "ipython3",
   "version": "3.11.7"
  }
 },
 "nbformat": 4,
 "nbformat_minor": 5
}
