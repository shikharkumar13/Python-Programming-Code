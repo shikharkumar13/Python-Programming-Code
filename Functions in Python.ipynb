{
 "cells": [
  {
   "cell_type": "markdown",
   "id": "d3ae2dd9",
   "metadata": {},
   "source": [
    "- Functions will be one of our main building blocks when we construct larger and larger amounts of code to solve problems.\n",
    "\n",
    "- Formally, a function is a group of set of statements so they can be run more than once. We can also specify parameters that can serve as inputs to the functions.\n",
    "\n",
    "- Functions allow us to not have to repeatedly write the same code again and again. If we see the Python Data Types like strings and lists we used a function len() to get the length of a string. Since checking the length of a sequence is a common task you would want to write a function that can do this repeatedly at command.\n",
    "\n",
    "- Functions will be one of the most basic levels of reusing code in Python."
   ]
  },
  {
   "cell_type": "markdown",
   "id": "2f4b0a3c",
   "metadata": {},
   "source": [
    "**Two main advantages of using Functions are:** \n",
    "- Makes your code more organized and manageable.\n",
    "- Brings resuability there by avoiding code redundency.  "
   ]
  },
  {
   "cell_type": "markdown",
   "id": "08f9e1a4",
   "metadata": {},
   "source": [
    "#### Some terminologies of a function :\n",
    "\n",
    "- **`def`** - Marks the start of the function header.\n",
    "- **`function name`** - used to uniquely identify the function. Function naming follows the same check list which we followed for variables.\n",
    "- **`Params/Args`** - used to pass values to a function. Params are optional.\n",
    "- **`Colon (:)`**- marks the end of the function header.\n",
    "- **`Doc String`** - A short description about the function.This is optional.\n",
    "- **`Business logic/Statements`** - One ore more valid Python statements to perform the required task.\n",
    "- **`return`** - This is optional. But this statement will help you to return a value from the function.\n",
    "- **`print`** - To dispaly the value from the function. This is optional.\n",
    "Either print or return need to be included at the end of the function.\n",
    "Make sure proper indentation is given inside the function body."
   ]
  },
  {
   "cell_type": "markdown",
   "id": "70bdf08f",
   "metadata": {},
   "source": [
    "#### There are essentially two parts of a function: \n",
    "1. Function Definition\n",
    "2. Function Call"
   ]
  },
  {
   "cell_type": "markdown",
   "id": "c325b3fe",
   "metadata": {},
   "source": [
    "### Function Definition"
   ]
  },
  {
   "cell_type": "code",
   "execution_count": null,
   "id": "b418a3e5",
   "metadata": {},
   "outputs": [],
   "source": [
    "def maximum(num1, num2):\n",
    "    if num1 > num2:\n",
    "        print(num1, 'is greater than', num2)\n",
    "    else:\n",
    "        print(num2, 'is greater than', num1)"
   ]
  },
  {
   "cell_type": "markdown",
   "id": "5ca1e8d1",
   "metadata": {},
   "source": [
    "Above we have few things to know:\n",
    "1. `maximum` is the function name\n",
    "2. `num1` and `num2` are parameter which will be inputs for the function\n",
    "3. Then we have main logic in the function body"
   ]
  },
  {
   "cell_type": "markdown",
   "id": "7a9cf1fa",
   "metadata": {},
   "source": [
    "### Function Call"
   ]
  },
  {
   "cell_type": "code",
   "execution_count": null,
   "id": "42e47379",
   "metadata": {},
   "outputs": [],
   "source": [
    "num1 = int(input('Enter the first number: '))\n",
    "num2 = int(input('Enter the second number: '))\n",
    "\n",
    "maximum(num1, num2)"
   ]
  },
  {
   "cell_type": "markdown",
   "id": "33b6adf3",
   "metadata": {},
   "source": [
    "### Execution Flow when the functions are involved"
   ]
  },
  {
   "cell_type": "code",
   "execution_count": null,
   "id": "92482f1b",
   "metadata": {},
   "outputs": [],
   "source": [
    "print('A function is defined.')\n",
    "\n",
    "def maximum(num1, num2):\n",
    "    if num1 > num2:\n",
    "        print(num1, 'is greater than', num2)\n",
    "    else:\n",
    "        print(num2, 'is greater than', num1)\n",
    "        \n",
    "print('The function has been defined but not called yet.')\n",
    "\n",
    "maximum(76, 22)"
   ]
  },
  {
   "cell_type": "markdown",
   "id": "22aba513",
   "metadata": {},
   "source": [
    "### Parameter and Arguments\n",
    "\n",
    "The `parameter` is the name defined `in the parenthesis of the function` and can be used in the function body.\n",
    "\n",
    "The `argument` is the data `that is passed in when we call the function`, which is then assigned to the parameter name."
   ]
  },
  {
   "cell_type": "markdown",
   "id": "9eab7824",
   "metadata": {},
   "source": [
    "### Types of Arguments\n",
    "\n",
    "In Python, there are 3 different types of arguments we can give a function.\n",
    "\n",
    "- **Positional arguments:** arguments that can be called by their position in the function definition.\n",
    "\n",
    "- **Keyword arguments:** arguments that can be called by their name.\n",
    "\n",
    "- **Default arguments:** arguments that are given default values."
   ]
  },
  {
   "cell_type": "markdown",
   "id": "c344c30c",
   "metadata": {},
   "source": [
    "#### Keyword Arguments\n",
    "Keyword Arguments are where we explicitly refer to what each argument is assigned to in the function call."
   ]
  },
  {
   "cell_type": "code",
   "execution_count": null,
   "id": "0c2cddb8",
   "metadata": {},
   "outputs": [],
   "source": [
    "maximum(num2 = 43, num1 = 99) #notice the positions of arguments are not same as the parameters"
   ]
  },
  {
   "cell_type": "markdown",
   "id": "e06149be",
   "metadata": {},
   "source": [
    "#### Default Arguments\n",
    "\n",
    "Sometimes we want to give our function parameters default values. We can provide a default value to a parameter by using the assignment operator (=). This will happen in the function declaration rather than the function call."
   ]
  },
  {
   "cell_type": "code",
   "execution_count": null,
   "id": "0bf46df2",
   "metadata": {},
   "outputs": [],
   "source": [
    "def maximum(num1, num2 = 0):  #num2 here is default argument since it has default value assigned\n",
    "    if num1 > num2:\n",
    "        print(num1, 'is greater than', num2)\n",
    "    else:\n",
    "        print(num2, 'is greater than', num1)"
   ]
  },
  {
   "cell_type": "markdown",
   "id": "58408ad1",
   "metadata": {},
   "source": [
    "When using the default arguments, we can skip the value of default argument(num2 here) or we can overwrite it by giving the new values while function call."
   ]
  },
  {
   "cell_type": "markdown",
   "id": "396d7798",
   "metadata": {},
   "source": [
    "#### Arbitrary arguments"
   ]
  },
  {
   "cell_type": "code",
   "execution_count": null,
   "id": "5a15c23e",
   "metadata": {},
   "outputs": [],
   "source": [
    "def add(*num):\n",
    "    total = 0\n",
    "    for value in num:\n",
    "        total += value\n",
    "    \n",
    "    return total"
   ]
  },
  {
   "cell_type": "code",
   "execution_count": null,
   "id": "3c9dd644",
   "metadata": {},
   "outputs": [],
   "source": [
    "add(34, 32, 98, 90, 55, 67)"
   ]
  },
  {
   "cell_type": "markdown",
   "id": "a4e157f9",
   "metadata": {},
   "source": [
    "### Built-in Function vs User-Defined Function\n",
    "\n",
    "Till now whatever we were working with are User-Defined Functions. Another set of functions which are called built-in functions comes built into Python for us to use. We have been using a lot of them till now like `print()`, `len()`, `input()`, `id()`, `type()` etc. We can see the list of in-built functions [here](https://docs.python.org/3/library/functions.html)."
   ]
  },
  {
   "cell_type": "markdown",
   "id": "bd75baec",
   "metadata": {},
   "source": [
    "### Function with or without `return`"
   ]
  },
  {
   "cell_type": "markdown",
   "id": "d670e855",
   "metadata": {},
   "source": [
    "Till now, our functions have been using print() to help us visualize the output in our interpreter. Functions can also return a value to the program so that this value can be modified or used later."
   ]
  },
  {
   "cell_type": "code",
   "execution_count": null,
   "id": "6a13a7d4",
   "metadata": {},
   "outputs": [],
   "source": [
    "def greater(num1, num2):\n",
    "    if num1 > num2:\n",
    "        result = num1\n",
    "    else:\n",
    "        result = num2\n",
    "        \n",
    "    return result"
   ]
  },
  {
   "cell_type": "code",
   "execution_count": null,
   "id": "07a6e9da",
   "metadata": {},
   "outputs": [],
   "source": [
    "returned_val = greater(87, 32)"
   ]
  },
  {
   "cell_type": "markdown",
   "id": "b7f3f629",
   "metadata": {},
   "source": [
    "Saving the values returned from a function can be reused throughout the program. The same can't be done if we print the result instead of returning it."
   ]
  },
  {
   "cell_type": "code",
   "execution_count": null,
   "id": "9362b9d6",
   "metadata": {},
   "outputs": [],
   "source": [
    "num1 = int(input('Enter the first number: '))\n",
    "num2 = int(input('Enter the second number: '))\n",
    "\n",
    "print('The maximum of two given numbers {num1} and {num2} is', greater(num1, num2))"
   ]
  },
  {
   "cell_type": "markdown",
   "id": "03251658",
   "metadata": {},
   "source": [
    "### Scope and Lifetime of a Variable in Functions\n",
    "\n",
    "- Scope of a variable is the portion of a program where the variable is recognized.\n",
    "\n",
    "- Variables defined inside a function is not visible from outside. Hence, they have a local scope.\n",
    "\n",
    "- Lifetime of a variable is the period throughout which the variable exits in the memory.\n",
    "\n",
    "- The lifetime of variables inside a function is as long as the function executes.\n",
    "\n",
    "- Variables created in the functions are destroyed once we return from the function."
   ]
  },
  {
   "cell_type": "code",
   "execution_count": null,
   "id": "b65d76cb",
   "metadata": {},
   "outputs": [],
   "source": [
    "def greater(num1, num2):\n",
    "    if num1 > num2:\n",
    "        result = num1\n",
    "    else:\n",
    "        result = num2\n",
    "        \n",
    "    return result"
   ]
  },
  {
   "cell_type": "code",
   "execution_count": null,
   "id": "18e85ba2",
   "metadata": {},
   "outputs": [],
   "source": [
    "greater(999.45, 334.32)"
   ]
  },
  {
   "cell_type": "code",
   "execution_count": null,
   "id": "34401e86",
   "metadata": {},
   "outputs": [],
   "source": [
    "print(result) #throws error because the result variable has been destroyed once it was returned"
   ]
  },
  {
   "cell_type": "code",
   "execution_count": null,
   "id": "292097ae",
   "metadata": {},
   "outputs": [],
   "source": []
  }
 ],
 "metadata": {
  "kernelspec": {
   "display_name": "Python 3",
   "language": "python",
   "name": "python3"
  },
  "language_info": {
   "codemirror_mode": {
    "name": "ipython",
    "version": 3
   },
   "file_extension": ".py",
   "mimetype": "text/x-python",
   "name": "python",
   "nbconvert_exporter": "python",
   "pygments_lexer": "ipython3",
   "version": "3.8.8"
  }
 },
 "nbformat": 4,
 "nbformat_minor": 5
}
